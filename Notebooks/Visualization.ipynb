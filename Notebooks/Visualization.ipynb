{
 "cells": [
  {
   "cell_type": "code",
   "execution_count": 1,
   "metadata": {},
   "outputs": [],
   "source": [
    "import pandas as pd\n",
    "import matplotlib.pyplot as plt\n",
    "import seaborn as sns\n",
    "import numpy as np"
   ]
  },
  {
   "cell_type": "code",
   "execution_count": 5,
   "metadata": {},
   "outputs": [],
   "source": [
    "\"\"\"Pulling information from the csv into a workable dataframe for us to use\"\"\"\n",
    "fulldf=pd.read_csv('fulldf2.csv')"
   ]
  },
  {
   "cell_type": "code",
   "execution_count": 6,
   "metadata": {},
   "outputs": [
    {
     "data": {
      "text/html": [
       "<div>\n",
       "<style scoped>\n",
       "    .dataframe tbody tr th:only-of-type {\n",
       "        vertical-align: middle;\n",
       "    }\n",
       "\n",
       "    .dataframe tbody tr th {\n",
       "        vertical-align: top;\n",
       "    }\n",
       "\n",
       "    .dataframe thead th {\n",
       "        text-align: right;\n",
       "    }\n",
       "</style>\n",
       "<table border=\"1\" class=\"dataframe\">\n",
       "  <thead>\n",
       "    <tr style=\"text-align: right;\">\n",
       "      <th></th>\n",
       "      <th>Unnamed: 0</th>\n",
       "      <th>Title</th>\n",
       "      <th>Movie Rating</th>\n",
       "      <th>Year</th>\n",
       "      <th>Gross Income</th>\n",
       "      <th>Movie Genre</th>\n",
       "      <th>Movie Runtime</th>\n",
       "      <th>IMDb Rating</th>\n",
       "      <th>Votes</th>\n",
       "      <th>Budget</th>\n",
       "      <th>Profit_percent</th>\n",
       "    </tr>\n",
       "  </thead>\n",
       "  <tbody>\n",
       "    <tr>\n",
       "      <td>0</td>\n",
       "      <td>19</td>\n",
       "      <td>10 Cloverfield Lane</td>\n",
       "      <td>PG-13</td>\n",
       "      <td>2016</td>\n",
       "      <td>72.08</td>\n",
       "      <td>Drama,Horror,Mystery</td>\n",
       "      <td>103</td>\n",
       "      <td>7.2</td>\n",
       "      <td>281319.0</td>\n",
       "      <td>5.0</td>\n",
       "      <td>1341.600000</td>\n",
       "    </tr>\n",
       "    <tr>\n",
       "      <td>1</td>\n",
       "      <td>20</td>\n",
       "      <td>10 Days in a Madhouse</td>\n",
       "      <td>R</td>\n",
       "      <td>2015</td>\n",
       "      <td>0.01</td>\n",
       "      <td>Drama</td>\n",
       "      <td>111</td>\n",
       "      <td>6.3</td>\n",
       "      <td>956.0</td>\n",
       "      <td>12.0</td>\n",
       "      <td>-99.916667</td>\n",
       "    </tr>\n",
       "    <tr>\n",
       "      <td>2</td>\n",
       "      <td>22</td>\n",
       "      <td>10 Things I Hate About You</td>\n",
       "      <td>PG-13</td>\n",
       "      <td>1999</td>\n",
       "      <td>38.18</td>\n",
       "      <td>Comedy,Drama,Romance</td>\n",
       "      <td>97</td>\n",
       "      <td>7.3</td>\n",
       "      <td>287984.0</td>\n",
       "      <td>13.0</td>\n",
       "      <td>193.692308</td>\n",
       "    </tr>\n",
       "    <tr>\n",
       "      <td>3</td>\n",
       "      <td>35</td>\n",
       "      <td>102 Dalmatians</td>\n",
       "      <td>G</td>\n",
       "      <td>2000</td>\n",
       "      <td>66.96</td>\n",
       "      <td>Adventure,Comedy,Family</td>\n",
       "      <td>100</td>\n",
       "      <td>4.9</td>\n",
       "      <td>33907.0</td>\n",
       "      <td>85.0</td>\n",
       "      <td>-21.223529</td>\n",
       "    </tr>\n",
       "    <tr>\n",
       "      <td>4</td>\n",
       "      <td>38</td>\n",
       "      <td>10th &amp; Wolf</td>\n",
       "      <td>R</td>\n",
       "      <td>2006</td>\n",
       "      <td>0.05</td>\n",
       "      <td>Crime,Drama,Thriller</td>\n",
       "      <td>107</td>\n",
       "      <td>6.3</td>\n",
       "      <td>6043.0</td>\n",
       "      <td>8.0</td>\n",
       "      <td>-99.375000</td>\n",
       "    </tr>\n",
       "  </tbody>\n",
       "</table>\n",
       "</div>"
      ],
      "text/plain": [
       "   Unnamed: 0                       Title Movie Rating  Year  Gross Income  \\\n",
       "0          19         10 Cloverfield Lane        PG-13  2016         72.08   \n",
       "1          20       10 Days in a Madhouse            R  2015          0.01   \n",
       "2          22  10 Things I Hate About You        PG-13  1999         38.18   \n",
       "3          35              102 Dalmatians            G  2000         66.96   \n",
       "4          38                 10th & Wolf            R  2006          0.05   \n",
       "\n",
       "               Movie Genre  Movie Runtime  IMDb Rating     Votes  Budget  \\\n",
       "0     Drama,Horror,Mystery            103          7.2  281319.0     5.0   \n",
       "1                    Drama            111          6.3     956.0    12.0   \n",
       "2     Comedy,Drama,Romance             97          7.3  287984.0    13.0   \n",
       "3  Adventure,Comedy,Family            100          4.9   33907.0    85.0   \n",
       "4     Crime,Drama,Thriller            107          6.3    6043.0     8.0   \n",
       "\n",
       "   Profit_percent  \n",
       "0     1341.600000  \n",
       "1      -99.916667  \n",
       "2      193.692308  \n",
       "3      -21.223529  \n",
       "4      -99.375000  "
      ]
     },
     "execution_count": 6,
     "metadata": {},
     "output_type": "execute_result"
    }
   ],
   "source": [
    "\"\"\"Checking the head of the dataframe to make sure the importing of the document went smoothly\"\"\"\n",
    "fulldf.head()"
   ]
  },
  {
   "cell_type": "markdown",
   "metadata": {},
   "source": [
    "# Top 20 grossing movies and Top 20 most profitable movies\n"
   ]
  },
  {
   "cell_type": "code",
   "execution_count": 7,
   "metadata": {},
   "outputs": [
    {
     "ename": "AttributeError",
     "evalue": "'DataFrame' object has no attribute 'Gross_Income'",
     "output_type": "error",
     "traceback": [
      "\u001b[1;31m---------------------------------------------------------------------------\u001b[0m",
      "\u001b[1;31mAttributeError\u001b[0m                            Traceback (most recent call last)",
      "\u001b[1;32m<ipython-input-7-0c09b5cc542a>\u001b[0m in \u001b[0;36m<module>\u001b[1;34m\u001b[0m\n\u001b[0;32m      1\u001b[0m \u001b[1;34m\"\"\"Getting \"\"\"\u001b[0m\u001b[1;33m\u001b[0m\u001b[1;33m\u001b[0m\u001b[0m\n\u001b[0;32m      2\u001b[0m \u001b[0mProfit_percent_dict\u001b[0m \u001b[1;33m=\u001b[0m \u001b[0mpd\u001b[0m\u001b[1;33m.\u001b[0m\u001b[0mSeries\u001b[0m\u001b[1;33m(\u001b[0m\u001b[0mfulldf\u001b[0m\u001b[1;33m.\u001b[0m\u001b[0mProfit_percent\u001b[0m\u001b[1;33m.\u001b[0m\u001b[0mvalues\u001b[0m\u001b[1;33m,\u001b[0m\u001b[0mindex\u001b[0m\u001b[1;33m=\u001b[0m\u001b[0mfulldf\u001b[0m\u001b[1;33m.\u001b[0m\u001b[0mTitle\u001b[0m\u001b[1;33m)\u001b[0m\u001b[1;33m.\u001b[0m\u001b[0mto_dict\u001b[0m\u001b[1;33m(\u001b[0m\u001b[1;33m)\u001b[0m\u001b[1;33m\u001b[0m\u001b[1;33m\u001b[0m\u001b[0m\n\u001b[1;32m----> 3\u001b[1;33m \u001b[0mGross_Income_dict\u001b[0m \u001b[1;33m=\u001b[0m \u001b[0mpd\u001b[0m\u001b[1;33m.\u001b[0m\u001b[0mSeries\u001b[0m\u001b[1;33m(\u001b[0m\u001b[0mfulldf\u001b[0m\u001b[1;33m.\u001b[0m\u001b[0mGross_Income\u001b[0m\u001b[1;33m.\u001b[0m\u001b[0mvalues\u001b[0m\u001b[1;33m,\u001b[0m\u001b[0mindex\u001b[0m\u001b[1;33m=\u001b[0m\u001b[0mfulldf\u001b[0m\u001b[1;33m.\u001b[0m\u001b[0mTitle\u001b[0m\u001b[1;33m)\u001b[0m\u001b[1;33m.\u001b[0m\u001b[0mto_dict\u001b[0m\u001b[1;33m(\u001b[0m\u001b[1;33m)\u001b[0m\u001b[1;33m\u001b[0m\u001b[1;33m\u001b[0m\u001b[0m\n\u001b[0m",
      "\u001b[1;32m~\\anaconda3\\envs\\learn-env\\lib\\site-packages\\pandas\\core\\generic.py\u001b[0m in \u001b[0;36m__getattr__\u001b[1;34m(self, name)\u001b[0m\n\u001b[0;32m   5177\u001b[0m             \u001b[1;32mif\u001b[0m \u001b[0mself\u001b[0m\u001b[1;33m.\u001b[0m\u001b[0m_info_axis\u001b[0m\u001b[1;33m.\u001b[0m\u001b[0m_can_hold_identifiers_and_holds_name\u001b[0m\u001b[1;33m(\u001b[0m\u001b[0mname\u001b[0m\u001b[1;33m)\u001b[0m\u001b[1;33m:\u001b[0m\u001b[1;33m\u001b[0m\u001b[1;33m\u001b[0m\u001b[0m\n\u001b[0;32m   5178\u001b[0m                 \u001b[1;32mreturn\u001b[0m \u001b[0mself\u001b[0m\u001b[1;33m[\u001b[0m\u001b[0mname\u001b[0m\u001b[1;33m]\u001b[0m\u001b[1;33m\u001b[0m\u001b[1;33m\u001b[0m\u001b[0m\n\u001b[1;32m-> 5179\u001b[1;33m             \u001b[1;32mreturn\u001b[0m \u001b[0mobject\u001b[0m\u001b[1;33m.\u001b[0m\u001b[0m__getattribute__\u001b[0m\u001b[1;33m(\u001b[0m\u001b[0mself\u001b[0m\u001b[1;33m,\u001b[0m \u001b[0mname\u001b[0m\u001b[1;33m)\u001b[0m\u001b[1;33m\u001b[0m\u001b[1;33m\u001b[0m\u001b[0m\n\u001b[0m\u001b[0;32m   5180\u001b[0m \u001b[1;33m\u001b[0m\u001b[0m\n\u001b[0;32m   5181\u001b[0m     \u001b[1;32mdef\u001b[0m \u001b[0m__setattr__\u001b[0m\u001b[1;33m(\u001b[0m\u001b[0mself\u001b[0m\u001b[1;33m,\u001b[0m \u001b[0mname\u001b[0m\u001b[1;33m,\u001b[0m \u001b[0mvalue\u001b[0m\u001b[1;33m)\u001b[0m\u001b[1;33m:\u001b[0m\u001b[1;33m\u001b[0m\u001b[1;33m\u001b[0m\u001b[0m\n",
      "\u001b[1;31mAttributeError\u001b[0m: 'DataFrame' object has no attribute 'Gross_Income'"
     ]
    }
   ],
   "source": [
    "\"\"\"Getting \"\"\"\n",
    "Profit_percent_dict = pd.Series(fulldf.Profit_percent.values,index=fulldf.Title).to_dict()\n",
    "Gross_Income_dict = pd.Series(fulldf.Gross_Income.values,index=fulldf.Title).to_dict()"
   ]
  },
  {
   "cell_type": "code",
   "execution_count": null,
   "metadata": {},
   "outputs": [],
   "source": [
    "Gross_Income_list= list(Gross_Income_dict.items())\n",
    "Gross_Income_top20 = sorted(Gross_Income_list, key = lambda x: x[1], reverse=True)[:25]\n",
    "Profit_percent_list = list(Profit_percent_dict.items())\n",
    "Profit_percent_top20 = sorted(Profit_percent_list, key = lambda x: x[1], reverse=True)[:25]"
   ]
  },
  {
   "cell_type": "code",
   "execution_count": null,
   "metadata": {},
   "outputs": [],
   "source": [
    "x_Gross = [x[1] for x in Gross_Income_top20]\n",
    "y_Gross = [y[0] for y in Gross_Income_top20]\n",
    "x_Profit_percent = [x[1] for x in Profit_percent_top20]\n",
    "y_Profit_percent = [y[0] for y in Profit_percent_top20]"
   ]
  },
  {
   "cell_type": "code",
   "execution_count": null,
   "metadata": {},
   "outputs": [],
   "source": [
    "# Top 20 Grossing movies worldwide\n",
    "Top20_income_plot = sns.barplot(x_Gross, y_Gross)\n",
    "Top20_income_plot.set(xlabel = 'Gross Income in Millions',title='Top 20 grossing movies in the United States and United Kingdom')"
   ]
  },
  {
   "cell_type": "code",
   "execution_count": 3,
   "metadata": {
    "scrolled": true
   },
   "outputs": [
    {
     "ename": "NameError",
     "evalue": "name 'x_Profit_percent' is not defined",
     "output_type": "error",
     "traceback": [
      "\u001b[1;31m---------------------------------------------------------------------------\u001b[0m",
      "\u001b[1;31mNameError\u001b[0m                                 Traceback (most recent call last)",
      "\u001b[1;32m<ipython-input-3-f71f01789019>\u001b[0m in \u001b[0;36m<module>\u001b[1;34m\u001b[0m\n\u001b[1;32m----> 1\u001b[1;33m \u001b[0mTop20_Profit_percent_plot\u001b[0m\u001b[1;33m=\u001b[0m \u001b[0msns\u001b[0m\u001b[1;33m.\u001b[0m\u001b[0mbarplot\u001b[0m\u001b[1;33m(\u001b[0m\u001b[0mx_Profit_percent\u001b[0m\u001b[1;33m,\u001b[0m \u001b[0my_Profit_percent\u001b[0m\u001b[1;33m)\u001b[0m\u001b[1;33m\u001b[0m\u001b[1;33m\u001b[0m\u001b[0m\n\u001b[0m\u001b[0;32m      2\u001b[0m \u001b[0mTop20_Profit_percent_plot\u001b[0m\u001b[1;33m.\u001b[0m\u001b[0mset\u001b[0m\u001b[1;33m(\u001b[0m\u001b[0mxlabel\u001b[0m \u001b[1;33m=\u001b[0m \u001b[1;34m'Profit Percent'\u001b[0m\u001b[1;33m,\u001b[0m\u001b[0mtitle\u001b[0m\u001b[1;33m=\u001b[0m\u001b[1;34m'20 Most profitable movies '\u001b[0m\u001b[1;33m)\u001b[0m\u001b[1;33m\u001b[0m\u001b[1;33m\u001b[0m\u001b[0m\n",
      "\u001b[1;31mNameError\u001b[0m: name 'x_Profit_percent' is not defined"
     ]
    }
   ],
   "source": [
    "Top20_Profit_percent_plot= sns.barplot(x_Profit_percent, y_Profit_percent)\n",
    "Top20_Profit_percent_plot.set(xlabel = 'Profit Percent',title='20 Most profitable movies ')"
   ]
  },
  {
   "cell_type": "code",
   "execution_count": 4,
   "metadata": {},
   "outputs": [
    {
     "ename": "NameError",
     "evalue": "name 'fulldf' is not defined",
     "output_type": "error",
     "traceback": [
      "\u001b[1;31m---------------------------------------------------------------------------\u001b[0m",
      "\u001b[1;31mNameError\u001b[0m                                 Traceback (most recent call last)",
      "\u001b[1;32m<ipython-input-4-61fc46e74caf>\u001b[0m in \u001b[0;36m<module>\u001b[1;34m\u001b[0m\n\u001b[1;32m----> 1\u001b[1;33m \u001b[0mGross_sorted_df\u001b[0m \u001b[1;33m=\u001b[0m \u001b[0mfulldf\u001b[0m\u001b[1;33m.\u001b[0m\u001b[0msort_values\u001b[0m\u001b[1;33m(\u001b[0m\u001b[0mby\u001b[0m\u001b[1;33m=\u001b[0m\u001b[1;33m[\u001b[0m\u001b[1;34m'Gross_Income'\u001b[0m\u001b[1;33m]\u001b[0m\u001b[1;33m,\u001b[0m \u001b[0mascending\u001b[0m\u001b[1;33m=\u001b[0m\u001b[1;32mFalse\u001b[0m\u001b[1;33m)\u001b[0m\u001b[1;33m\u001b[0m\u001b[1;33m\u001b[0m\u001b[0m\n\u001b[0m",
      "\u001b[1;31mNameError\u001b[0m: name 'fulldf' is not defined"
     ]
    }
   ],
   "source": [
    "Gross_sorted_df = fulldf.sort_values(by=['Gross_Income'], ascending=False)"
   ]
  },
  {
   "cell_type": "markdown",
   "metadata": {},
   "source": [
    "## We can see that none of the top Grossing movies are among the most profitable , perhaps this will be more clear when we look at whats happening to the % profit as gross increases. "
   ]
  },
  {
   "cell_type": "code",
   "execution_count": 13,
   "metadata": {},
   "outputs": [],
   "source": [
    "Genre_dict = pd.Series(fulldf.Profit_percent.values,index=fulldf.Title).to_dict()\n"
   ]
  },
  {
   "cell_type": "code",
   "execution_count": 23,
   "metadata": {},
   "outputs": [
    {
     "data": {
      "text/plain": [
       "<matplotlib.axes._subplots.AxesSubplot at 0x1f1641ba400>"
      ]
     },
     "execution_count": 23,
     "metadata": {},
     "output_type": "execute_result"
    },
    {
     "data": {
      "image/png": "[encoded data removed]",
      "text/plain": [
       "<Figure size 432x288 with 1 Axes>"
      ]
     },
     "metadata": {
      "needs_background": "light"
     },
     "output_type": "display_data"
    }
   ],
   "source": [
    "sns.distplot( fulldf[\"Profit_percent\"] , color=\"red\" )\n",
    "sns.distplot( fulldf[\"Gross_Income\"] , color=\"skyblue\")\n"
   ]
  },
  {
   "cell_type": "code",
   "execution_count": null,
   "metadata": {},
   "outputs": [],
   "source": []
  }
 ],
 "metadata": {
  "kernelspec": {
   "display_name": "learn-env",
   "language": "python",
   "name": "learn-env"
  },
  "language_info": {
   "codemirror_mode": {
    "name": "ipython",
    "version": 3
   },
   "file_extension": ".py",
   "mimetype": "text/x-python",
   "name": "python",
   "nbconvert_exporter": "python",
   "pygments_lexer": "ipython3",
   "version": "3.6.9"
  }
 },
 "nbformat": 4,
 "nbformat_minor": 2
}

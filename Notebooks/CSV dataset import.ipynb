{
 "cells": [
  {
   "cell_type": "code",
   "execution_count": 4,
   "metadata": {},
   "outputs": [],
   "source": [
    "\"\"\"Pulling the imports\"\"\"\n",
    "import pandas as pd\n",
    "import numpy as np\n",
    "import matplotlib.pyplot as plt"
   ]
  },
  {
   "cell_type": "code",
   "execution_count": 9,
   "metadata": {},
   "outputs": [],
   "source": [
    "\"\"\"pulled all files from zip folder and put into dataframes\"\"\"\n",
    "full_movie_db ='asdfag'\n",
    "\n",
    "def dataPull():\n",
    "    titles_df = pd.read_csv('Zipped_Files/IMDb movies.csv')\n",
    "    names_df = pd.read_csv('Zipped_Files/IMDb names.csv')\n",
    "    ratings_df = pd.read_csv('Zipped_Files/IMDb ratings.csv')\n",
    "    title_principals_df = pd.read_csv('Zipped_Files/IMDb title_principals.csv')\n",
    "    \n",
    "    \"\"\"set each of the index's to make it easier for me to pull into one dataframe. commented out some to test that it was working\n",
    "before finishing setting all index's\"\"\"\n",
    "def dataIndexSet():\n",
    "    ratings_df.set_index('imdb_title_id', inplace = True)\n",
    "    title_principals_df.set_index('imdb_name_id', inplace = True)\n",
    "    titles_df.set_index('imdb_title_id', inplace = True)\n",
    "    names_df.set_index('imdb_name_id', inplace = True)\n",
    "    \n",
    "\"\"\"making sure the heads are correct and set to right index\"\"\"\n",
    "def checkHead():\n",
    "    display(names_df.head())\n",
    "    display(titles_df.head())\n",
    "    display(ratings_df.head())\n",
    "    title_principals_df.head()\n",
    "\"\"\"Joing the data bases together to make one complete data set to work with\"\"\"\n",
    "def joinDatabases():\n",
    "    full_movie_db = titles_df.join(ratings_df, how = 'inner')\n",
    "    full_name_db = names_df.join(title_principals_df, how = 'inner')\n",
    "    \n"
   ]
  },
  {
   "cell_type": "code",
   "execution_count": 7,
   "metadata": {},
   "outputs": [
    {
     "name": "stdout",
     "output_type": "stream",
     "text": [
      "Full Movie colums\n"
     ]
    },
    {
     "ename": "NameError",
     "evalue": "name 'full_movie_db' is not defined",
     "output_type": "error",
     "traceback": [
      "\u001b[1;31m---------------------------------------------------------------------------\u001b[0m",
      "\u001b[1;31mNameError\u001b[0m                                 Traceback (most recent call last)",
      "\u001b[1;32m<ipython-input-7-5cabce8ba8c7>\u001b[0m in \u001b[0;36m<module>\u001b[1;34m\u001b[0m\n\u001b[0;32m      2\u001b[0m \u001b[1;33m\u001b[0m\u001b[0m\n\u001b[0;32m      3\u001b[0m \u001b[0mprint\u001b[0m\u001b[1;33m(\u001b[0m\u001b[1;34m'Full Movie colums'\u001b[0m\u001b[1;33m)\u001b[0m\u001b[1;33m\u001b[0m\u001b[1;33m\u001b[0m\u001b[0m\n\u001b[1;32m----> 4\u001b[1;33m \u001b[0mdisplay\u001b[0m\u001b[1;33m(\u001b[0m\u001b[0mfull_movie_db\u001b[0m\u001b[1;33m.\u001b[0m\u001b[0mcolumns\u001b[0m\u001b[1;33m)\u001b[0m\u001b[1;33m\u001b[0m\u001b[1;33m\u001b[0m\u001b[0m\n\u001b[0m\u001b[0;32m      5\u001b[0m \u001b[0mprint\u001b[0m\u001b[1;33m(\u001b[0m\u001b[1;34m'Full name columns'\u001b[0m\u001b[1;33m)\u001b[0m\u001b[1;33m\u001b[0m\u001b[1;33m\u001b[0m\u001b[0m\n\u001b[0;32m      6\u001b[0m \u001b[0mdisplay\u001b[0m\u001b[1;33m(\u001b[0m\u001b[0mfull_name_db\u001b[0m\u001b[1;33m.\u001b[0m\u001b[0mcolumns\u001b[0m\u001b[1;33m)\u001b[0m\u001b[1;33m\u001b[0m\u001b[1;33m\u001b[0m\u001b[0m\n",
      "\u001b[1;31mNameError\u001b[0m: name 'full_movie_db' is not defined"
     ]
    }
   ],
   "source": [
    "\"\"\"Checking to make sure everything is where its suppose to be and see if there are any missing information\"\"\"\n",
    "\n",
    "print('Full Movie colums')\n",
    "display(full_movie_db.columns)\n",
    "print('Full name columns')\n",
    "display(full_name_db.columns)\n",
    "print('Full Movie database information')\n",
    "full_movie_db.info()"
   ]
  },
  {
   "cell_type": "code",
   "execution_count": null,
   "metadata": {},
   "outputs": [],
   "source": []
  },
  {
   "cell_type": "code",
   "execution_count": null,
   "metadata": {},
   "outputs": [],
   "source": [
    "\n"
   ]
  },
  {
   "cell_type": "code",
   "execution_count": null,
   "metadata": {},
   "outputs": [],
   "source": []
  },
  {
   "cell_type": "code",
   "execution_count": 3,
   "metadata": {},
   "outputs": [
    {
     "ename": "NameError",
     "evalue": "name 'full_name_db' is not defined",
     "output_type": "error",
     "traceback": [
      "\u001b[1;31m---------------------------------------------------------------------------\u001b[0m",
      "\u001b[1;31mNameError\u001b[0m                                 Traceback (most recent call last)",
      "\u001b[1;32m<ipython-input-3-851b1c164a81>\u001b[0m in \u001b[0;36m<module>\u001b[1;34m\u001b[0m\n\u001b[1;32m----> 1\u001b[1;33m \u001b[0mfull_name_db\u001b[0m\u001b[1;33m.\u001b[0m\u001b[0mset_index\u001b[0m\u001b[1;33m(\u001b[0m\u001b[1;34m'known_for_titles'\u001b[0m\u001b[1;33m,\u001b[0m \u001b[0minplace\u001b[0m \u001b[1;33m=\u001b[0m \u001b[1;32mTrue\u001b[0m\u001b[1;33m)\u001b[0m\u001b[1;33m\u001b[0m\u001b[1;33m\u001b[0m\u001b[0m\n\u001b[0m\u001b[0;32m      2\u001b[0m \u001b[0mfull_movie_db\u001b[0m\u001b[1;33m.\u001b[0m\u001b[0mjoin\u001b[0m\u001b[1;33m(\u001b[0m\u001b[0mfull_name_db\u001b[0m\u001b[1;33m,\u001b[0m \u001b[0mhow\u001b[0m \u001b[1;33m=\u001b[0m \u001b[1;34m'outer'\u001b[0m\u001b[1;33m)\u001b[0m\u001b[1;33m\u001b[0m\u001b[1;33m\u001b[0m\u001b[0m\n",
      "\u001b[1;31mNameError\u001b[0m: name 'full_name_db' is not defined"
     ]
    }
   ],
   "source": [
    "full_name_db.set_index('known_for_titles', inplace = True)\n",
    "full_movie_db.join(full_name_db, how = 'outer')\n"
   ]
  },
  {
   "cell_type": "code",
   "execution_count": null,
   "metadata": {},
   "outputs": [],
   "source": []
  }
 ],
 "metadata": {
  "kernelspec": {
   "display_name": "learn-env",
   "language": "python",
   "name": "learn-env"
  },
  "language_info": {
   "codemirror_mode": {
    "name": "ipython",
    "version": 3
   },
   "file_extension": ".py",
   "mimetype": "text/x-python",
   "name": "python",
   "nbconvert_exporter": "python",
   "pygments_lexer": "ipython3",
   "version": "3.6.9"
  }
 },
 "nbformat": 4,
 "nbformat_minor": 4
}

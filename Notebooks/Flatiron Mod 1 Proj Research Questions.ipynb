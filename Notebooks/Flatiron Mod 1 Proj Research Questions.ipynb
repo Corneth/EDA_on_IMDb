{
 "cells": [
  {
   "cell_type": "markdown",
   "metadata": {},
   "source": [
    "\n",
    "Sure we can make a list of the most profitable genres, but ultimately the budget allocated by microsoft will determine the genre to start with \n",
    "\n",
    "\n",
    "Different budgets will yield different margins\n",
    "\n",
    "\n",
    "What is the overall vision of the company. What does the company want to be percieved as by the public? We are currently a technology company. Do we want to be percieved as a tech giant and thus stick to only one niche?\n",
    "\n",
    "\n",
    "Examples - final fantasy series, video games\n",
    "HArry potter series\n",
    "\n",
    "What about series?\n",
    "\n",
    "\n",
    "Number of occurences in reviews\n",
    "\n",
    "What about profitability vs rating?\n",
    "\n",
    "Runtime vs popularity\n",
    "\n",
    "Day and month of release analysis \n",
    "\n",
    "Genre counts for top 150 grossing movies\n",
    "\t- sure it reflects what the public likes, but what is the profit margins and initial investments for each? \n",
    "\n",
    "Total gross is not the same as profit - what is the net?\n",
    "\n",
    "\n",
    "What are the runtime trends per year? Has it increased over time due to ease of production?\n",
    "\n",
    "\n",
    "Highest total gross vs highest margins\n",
    "\t- the bearded guy could have put the amounts next to the movies for greater effect\n",
    "\n",
    "Complexity will breed problems\n",
    "1 year, 5 year 10 year roadmap\n",
    "\n",
    "Movie advertisement lengths?\n",
    "Movie advertising platforms?\n",
    "COVID friendly movie generation?\n",
    "Will we have to adapt?\n",
    "\n",
    "\n",
    "What are netflix's numbers?\n",
    "\n",
    "What are the things microsoft can leverage and outcompete the competitors in. What are microsofts weaknesses?\n",
    "\n",
    "Top video streaming sites\n",
    "\n",
    "Do tastes change over time?\n",
    "\t-What have been the tastes during each decade?\n",
    "\n",
    "Are tastes based on major USA events? \n",
    "Major holidays - July 4?\n",
    "What is the correlation of holiday vs movie type?\n",
    "\t-Example christmas movies during christmas\n",
    "\t-Romance movies during valentines day\n",
    "\n",
    "Should microsoft release movies during black friday since they are tech giants?\n",
    "\n",
    "\n",
    "Do movies mesh well with the corporate vision/mission statement for Microsoft? \n",
    "\n",
    "\n"
   ]
  },
  {
   "cell_type": "markdown",
   "metadata": {},
   "source": [
    "Thomas' questions:\n",
    "\n",
    "What are the runtime trends per year? Has it increased over time due to ease of production?\n",
    "Runtime vs popularity\n"
   ]
  }
 ],
 "metadata": {
  "kernelspec": {
   "display_name": "Python [conda env:learn-env] *",
   "language": "python",
   "name": "conda-env-learn-env-py"
  },
  "language_info": {
   "codemirror_mode": {
    "name": "ipython",
    "version": 3
   },
   "file_extension": ".py",
   "mimetype": "text/x-python",
   "name": "python",
   "nbconvert_exporter": "python",
   "pygments_lexer": "ipython3",
   "version": "3.6.9"
  }
 },
 "nbformat": 4,
 "nbformat_minor": 2
}

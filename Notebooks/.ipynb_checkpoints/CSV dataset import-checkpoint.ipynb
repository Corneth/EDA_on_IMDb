{
 "cells": [
  {
   "cell_type": "code",
   "execution_count": 15,
   "metadata": {},
   "outputs": [],
   "source": [
    "\"\"\"Pulling the imports\"\"\"\n",
    "import pandas as pd\n",
    "import numpy as np\n",
    "import matplotlib.pyplot as plt"
   ]
  },
  {
   "cell_type": "code",
   "execution_count": 16,
   "metadata": {},
   "outputs": [],
   "source": [
    "\"\"\"pulled all files from zip folder and put into dataframes\"\"\"\n",
    "def dataPull():\n",
    "    titles_df = pd.read_csv('Zipped_Files/IMDb movies.csv')\n",
    "    names_df = pd.read_csv('Zipped_Files/IMDb names.csv')\n",
    "    ratings_df = pd.read_csv('Zipped_Files/IMDb ratings.csv')\n",
    "    title_principals_df = pd.read_csv('Zipped_Files/IMDb title_principals.csv')\n",
    "    \n",
    "    \"\"\"set each of the index's to make it easier for me to pull into one dataframe. commented out some to test that it was working\n",
    "before finishing setting all index's\"\"\"\n",
    "def dataIndexSet():\n",
    "    ratings_df.set_index('imdb_title_id', inplace = True)\n",
    "    title_principals_df.set_index('imdb_name_id', inplace = True)\n",
    "    titles_df.set_index('imdb_title_id', inplace = True)\n",
    "    names_df.set_index('imdb_name_id', inplace = True)\n",
    "    \n",
    "\"\"\"making sure the heads are correct and set to right index\"\"\"\n",
    "def checkHead():\n",
    "    display(names_df.head())\n",
    "    display(titles_df.head())\n",
    "    display(ratings_df.head())\n",
    "    title_principals_df.head()\n",
    "\"\"\"Joing the data bases together to make one complete data set to work with\"\"\"\n",
    "def joinDatabases():\n",
    "    full_movie_db = titles_df.join(ratings_df, how = 'inner')\n",
    "    full_name_db = names_df.join(title_principals_df, how = 'inner')\n",
    "    \n"
   ]
  },
  {
   "cell_type": "code",
   "execution_count": 23,
   "metadata": {},
   "outputs": [
    {
     "name": "stdout",
     "output_type": "stream",
     "text": [
      "Full Movie colums\n"
     ]
    },
    {
     "data": {
      "text/plain": [
       "Index(['title', 'original_title', 'year', 'date_published', 'genre',\n",
       "       'duration', 'country', 'language', 'director', 'writer',\n",
       "       'production_company', 'actors', 'description', 'avg_vote', 'votes',\n",
       "       'budget', 'usa_gross_income', 'worlwide_gross_income', 'metascore',\n",
       "       'reviews_from_users', 'reviews_from_critics', 'weighted_average_vote',\n",
       "       'total_votes', 'mean_vote', 'median_vote', 'votes_10', 'votes_9',\n",
       "       'votes_8', 'votes_7', 'votes_6', 'votes_5', 'votes_4', 'votes_3',\n",
       "       'votes_2', 'votes_1', 'allgenders_0age_avg_vote',\n",
       "       'allgenders_0age_votes', 'allgenders_18age_avg_vote',\n",
       "       'allgenders_18age_votes', 'allgenders_30age_avg_vote',\n",
       "       'allgenders_30age_votes', 'allgenders_45age_avg_vote',\n",
       "       'allgenders_45age_votes', 'males_allages_avg_vote',\n",
       "       'males_allages_votes', 'males_0age_avg_vote', 'males_0age_votes',\n",
       "       'males_18age_avg_vote', 'males_18age_votes', 'males_30age_avg_vote',\n",
       "       'males_30age_votes', 'males_45age_avg_vote', 'males_45age_votes',\n",
       "       'females_allages_avg_vote', 'females_allages_votes',\n",
       "       'females_0age_avg_vote', 'females_0age_votes', 'females_18age_avg_vote',\n",
       "       'females_18age_votes', 'females_30age_avg_vote', 'females_30age_votes',\n",
       "       'females_45age_avg_vote', 'females_45age_votes',\n",
       "       'top1000_voters_rating', 'top1000_voters_votes', 'us_voters_rating',\n",
       "       'us_voters_votes', 'non_us_voters_rating', 'non_us_voters_votes'],\n",
       "      dtype='object')"
      ]
     },
     "metadata": {},
     "output_type": "display_data"
    },
    {
     "name": "stdout",
     "output_type": "stream",
     "text": [
      "Full name columns\n"
     ]
    },
    {
     "data": {
      "text/plain": [
       "Index(['name', 'birth_name', 'height', 'bio', 'birth_details', 'birth_year',\n",
       "       'date_of_birth', 'place_of_birth', 'death_details', 'death_year',\n",
       "       'date_of_death', 'place_of_death', 'reason_of_death', 'spouses',\n",
       "       'divorces', 'spouses_with_children', 'children', 'primary_profession',\n",
       "       'known_for_titles', 'imdb_title_id', 'ordering', 'category', 'job',\n",
       "       'characters'],\n",
       "      dtype='object')"
      ]
     },
     "metadata": {},
     "output_type": "display_data"
    },
    {
     "name": "stdout",
     "output_type": "stream",
     "text": [
      "Full Movie database information\n",
      "<class 'pandas.core.frame.DataFrame'>\n",
      "Index: 81273 entries, tt0000574 to tt9914286\n",
      "Data columns (total 69 columns):\n",
      "title                        81273 non-null object\n",
      "original_title               81273 non-null object\n",
      "year                         81273 non-null int64\n",
      "date_published               81273 non-null object\n",
      "genre                        81273 non-null object\n",
      "duration                     81273 non-null int64\n",
      "country                      81234 non-null object\n",
      "language                     80518 non-null object\n",
      "director                     81200 non-null object\n",
      "writer                       79780 non-null object\n",
      "production_company           76948 non-null object\n",
      "actors                       81207 non-null object\n",
      "description                  78843 non-null object\n",
      "avg_vote                     81273 non-null float64\n",
      "votes                        81273 non-null int64\n",
      "budget                       22804 non-null object\n",
      "usa_gross_income             15094 non-null object\n",
      "worlwide_gross_income        29892 non-null object\n",
      "metascore                    12722 non-null float64\n",
      "reviews_from_users           74196 non-null float64\n",
      "reviews_from_critics         70286 non-null float64\n",
      "weighted_average_vote        81273 non-null float64\n",
      "total_votes                  81273 non-null int64\n",
      "mean_vote                    81273 non-null float64\n",
      "median_vote                  81273 non-null float64\n",
      "votes_10                     81273 non-null int64\n",
      "votes_9                      81273 non-null int64\n",
      "votes_8                      81273 non-null int64\n",
      "votes_7                      81273 non-null int64\n",
      "votes_6                      81273 non-null int64\n",
      "votes_5                      81273 non-null int64\n",
      "votes_4                      81273 non-null int64\n",
      "votes_3                      81273 non-null int64\n",
      "votes_2                      81273 non-null int64\n",
      "votes_1                      81273 non-null int64\n",
      "allgenders_0age_avg_vote     26543 non-null float64\n",
      "allgenders_0age_votes        26543 non-null float64\n",
      "allgenders_18age_avg_vote    80858 non-null float64\n",
      "allgenders_18age_votes       80858 non-null float64\n",
      "allgenders_30age_avg_vote    81264 non-null float64\n",
      "allgenders_30age_votes       81264 non-null float64\n",
      "allgenders_45age_avg_vote    81160 non-null float64\n",
      "allgenders_45age_votes       81160 non-null float64\n",
      "males_allages_avg_vote       81272 non-null float64\n",
      "males_allages_votes          81272 non-null float64\n",
      "males_0age_avg_vote          20339 non-null float64\n",
      "males_0age_votes             20339 non-null float64\n",
      "males_18age_avg_vote         80217 non-null float64\n",
      "males_18age_votes            80217 non-null float64\n",
      "males_30age_avg_vote         81264 non-null float64\n",
      "males_30age_votes            81264 non-null float64\n",
      "males_45age_avg_vote         81120 non-null float64\n",
      "males_45age_votes            81120 non-null float64\n",
      "females_allages_avg_vote     81203 non-null float64\n",
      "females_allages_votes        81203 non-null float64\n",
      "females_0age_avg_vote        15333 non-null float64\n",
      "females_0age_votes           15333 non-null float64\n",
      "females_18age_avg_vote       76239 non-null float64\n",
      "females_18age_votes          76239 non-null float64\n",
      "females_30age_avg_vote       80409 non-null float64\n",
      "females_30age_votes          80409 non-null float64\n",
      "females_45age_avg_vote       78701 non-null float64\n",
      "females_45age_votes          78701 non-null float64\n",
      "top1000_voters_rating        80667 non-null float64\n",
      "top1000_voters_votes         80667 non-null float64\n",
      "us_voters_rating             81034 non-null float64\n",
      "us_voters_votes              81034 non-null float64\n",
      "non_us_voters_rating         81269 non-null float64\n",
      "non_us_voters_votes          81269 non-null float64\n",
      "dtypes: float64(41), int64(14), object(14)\n",
      "memory usage: 45.9+ MB\n"
     ]
    }
   ],
   "source": [
    "\"\"\"Checking to make sure everything is where its suppose to be and see if there are any missing information\"\"\"\n",
    "\n",
    "print('Full Movie colums')\n",
    "display(full_movie_db.columns)\n",
    "print('Full name columns')\n",
    "display(full_name_db.columns)\n",
    "print('Full Movie database information')\n",
    "full_movie_db.info()"
   ]
  },
  {
   "cell_type": "code",
   "execution_count": 13,
   "metadata": {},
   "outputs": [],
   "source": []
  },
  {
   "cell_type": "code",
   "execution_count": 14,
   "metadata": {},
   "outputs": [],
   "source": [
    "\n"
   ]
  },
  {
   "cell_type": "code",
   "execution_count": null,
   "metadata": {},
   "outputs": [],
   "source": []
  },
  {
   "cell_type": "code",
   "execution_count": 10,
   "metadata": {},
   "outputs": [
    {
     "name": "stdout",
     "output_type": "stream",
     "text": [
      "<class 'pandas.core.frame.DataFrame'>\n",
      "Index: 81273 entries, tt0000574 to tt9914286\n",
      "Data columns (total 69 columns):\n",
      "title                        81273 non-null object\n",
      "original_title               81273 non-null object\n",
      "year                         81273 non-null int64\n",
      "date_published               81273 non-null object\n",
      "genre                        81273 non-null object\n",
      "duration                     81273 non-null int64\n",
      "country                      81234 non-null object\n",
      "language                     80518 non-null object\n",
      "director                     81200 non-null object\n",
      "writer                       79780 non-null object\n",
      "production_company           76948 non-null object\n",
      "actors                       81207 non-null object\n",
      "description                  78843 non-null object\n",
      "avg_vote                     81273 non-null float64\n",
      "votes                        81273 non-null int64\n",
      "budget                       22804 non-null object\n",
      "usa_gross_income             15094 non-null object\n",
      "worlwide_gross_income        29892 non-null object\n",
      "metascore                    12722 non-null float64\n",
      "reviews_from_users           74196 non-null float64\n",
      "reviews_from_critics         70286 non-null float64\n",
      "weighted_average_vote        81273 non-null float64\n",
      "total_votes                  81273 non-null int64\n",
      "mean_vote                    81273 non-null float64\n",
      "median_vote                  81273 non-null float64\n",
      "votes_10                     81273 non-null int64\n",
      "votes_9                      81273 non-null int64\n",
      "votes_8                      81273 non-null int64\n",
      "votes_7                      81273 non-null int64\n",
      "votes_6                      81273 non-null int64\n",
      "votes_5                      81273 non-null int64\n",
      "votes_4                      81273 non-null int64\n",
      "votes_3                      81273 non-null int64\n",
      "votes_2                      81273 non-null int64\n",
      "votes_1                      81273 non-null int64\n",
      "allgenders_0age_avg_vote     26543 non-null float64\n",
      "allgenders_0age_votes        26543 non-null float64\n",
      "allgenders_18age_avg_vote    80858 non-null float64\n",
      "allgenders_18age_votes       80858 non-null float64\n",
      "allgenders_30age_avg_vote    81264 non-null float64\n",
      "allgenders_30age_votes       81264 non-null float64\n",
      "allgenders_45age_avg_vote    81160 non-null float64\n",
      "allgenders_45age_votes       81160 non-null float64\n",
      "males_allages_avg_vote       81272 non-null float64\n",
      "males_allages_votes          81272 non-null float64\n",
      "males_0age_avg_vote          20339 non-null float64\n",
      "males_0age_votes             20339 non-null float64\n",
      "males_18age_avg_vote         80217 non-null float64\n",
      "males_18age_votes            80217 non-null float64\n",
      "males_30age_avg_vote         81264 non-null float64\n",
      "males_30age_votes            81264 non-null float64\n",
      "males_45age_avg_vote         81120 non-null float64\n",
      "males_45age_votes            81120 non-null float64\n",
      "females_allages_avg_vote     81203 non-null float64\n",
      "females_allages_votes        81203 non-null float64\n",
      "females_0age_avg_vote        15333 non-null float64\n",
      "females_0age_votes           15333 non-null float64\n",
      "females_18age_avg_vote       76239 non-null float64\n",
      "females_18age_votes          76239 non-null float64\n",
      "females_30age_avg_vote       80409 non-null float64\n",
      "females_30age_votes          80409 non-null float64\n",
      "females_45age_avg_vote       78701 non-null float64\n",
      "females_45age_votes          78701 non-null float64\n",
      "top1000_voters_rating        80667 non-null float64\n",
      "top1000_voters_votes         80667 non-null float64\n",
      "us_voters_rating             81034 non-null float64\n",
      "us_voters_votes              81034 non-null float64\n",
      "non_us_voters_rating         81269 non-null float64\n",
      "non_us_voters_votes          81269 non-null float64\n",
      "dtypes: float64(41), int64(14), object(14)\n",
      "memory usage: 45.9+ MB\n"
     ]
    }
   ],
   "source": [
    "#full_name_db.set_index('known_for_titles', inplace = True)\n",
    "#full_movie_db.join(full_name_db, how = 'outer')\n"
   ]
  },
  {
   "cell_type": "code",
   "execution_count": null,
   "metadata": {},
   "outputs": [],
   "source": []
  }
 ],
 "metadata": {
  "kernelspec": {
   "display_name": "learn-env",
   "language": "python",
   "name": "learn-env"
  },
  "language_info": {
   "codemirror_mode": {
    "name": "ipython",
    "version": 3
   },
   "file_extension": ".py",
   "mimetype": "text/x-python",
   "name": "python",
   "nbconvert_exporter": "python",
   "pygments_lexer": "ipython3",
   "version": "3.6.9"
  }
 },
 "nbformat": 4,
 "nbformat_minor": 4
}

{
 "cells": [
  {
   "cell_type": "code",
   "execution_count": 6,
   "metadata": {},
   "outputs": [],
   "source": [
    "import pandas as pd\n"
   ]
  },
  {
   "cell_type": "code",
   "execution_count": 7,
   "metadata": {},
   "outputs": [],
   "source": [
    "\"\"\"import movie file with budget info\"\"\"\n",
    "df_budget = pd.read_csv('tn.movie_budgets.csv.gz') # get the data for budget of movies\n",
    "df_scraped = pd.read_csv('df_scraped.csv')\n",
    "df_budget.rename(columns = {'movie': 'Title'}, inplace=True) # rename the movie column to title so it can be used as an index for joining \n",
    "df_budget.set_index('Title',inplace=True) # set the name as index \n"
   ]
  },
  {
   "cell_type": "code",
   "execution_count": 8,
   "metadata": {},
   "outputs": [],
   "source": [
    "\"\"\"Clean budget data\"\"\"\n",
    "df_budget['production_budget'] = df_budget['production_budget'].apply(lambda x: x.strip('$').replace(\",\",\"\")) #Clean currency string   \n",
    "df_budget['production_budget'] = df_budget['production_budget'].astype(float)/1000000 # Convert to integer and change the amount into millions"
   ]
  },
  {
   "cell_type": "code",
   "execution_count": 9,
   "metadata": {},
   "outputs": [
    {
     "data": {
      "text/plain": [
       "numpy.float64"
      ]
     },
     "execution_count": 9,
     "metadata": {},
     "output_type": "execute_result"
    }
   ],
   "source": [
    "type(df_budget['production_budget'][0])# check to see if amount is numeric"
   ]
  },
  {
   "cell_type": "code",
   "execution_count": 10,
   "metadata": {},
   "outputs": [],
   "source": [
    "fulldf = pd.merge(df_scraped,df_budget['production_budget'],on ='Title') # add the budget column and release date to df_scraped\n",
    "   \n",
    "fulldf.rename(columns = {'production_budget':'Budget'}, inplace = True) # rename production budget to Budget"
   ]
  },
  {
   "cell_type": "code",
   "execution_count": 11,
   "metadata": {},
   "outputs": [],
   "source": [
    "fulldf['Profit percent'] = ((fulldf['Gross Income'] - fulldf['Budget'] )/fulldf['Budget'])*100"
   ]
  },
  {
   "cell_type": "code",
   "execution_count": 12,
   "metadata": {},
   "outputs": [],
   "source": [
    "fulldf.to_csv(\"fulldf.csv\",index=False) # save this df as an excel file"
   ]
  },
  {
   "cell_type": "code",
   "execution_count": 13,
   "metadata": {},
   "outputs": [
    {
     "data": {
      "text/html": [
       "<div>\n",
       "<style scoped>\n",
       "    .dataframe tbody tr th:only-of-type {\n",
       "        vertical-align: middle;\n",
       "    }\n",
       "\n",
       "    .dataframe tbody tr th {\n",
       "        vertical-align: top;\n",
       "    }\n",
       "\n",
       "    .dataframe thead th {\n",
       "        text-align: right;\n",
       "    }\n",
       "</style>\n",
       "<table border=\"1\" class=\"dataframe\">\n",
       "  <thead>\n",
       "    <tr style=\"text-align: right;\">\n",
       "      <th></th>\n",
       "      <th>Title</th>\n",
       "      <th>Movie Rating</th>\n",
       "      <th>Year</th>\n",
       "      <th>Director</th>\n",
       "      <th>Gross Income</th>\n",
       "      <th>Movie Genre</th>\n",
       "      <th>Movie Runtime</th>\n",
       "      <th>IMDb Rating</th>\n",
       "      <th>Votes</th>\n",
       "      <th>Budget</th>\n",
       "      <th>Profit percent</th>\n",
       "    </tr>\n",
       "  </thead>\n",
       "  <tbody>\n",
       "    <tr>\n",
       "      <td>0</td>\n",
       "      <td>12 Years a Slave</td>\n",
       "      <td>R</td>\n",
       "      <td>2013</td>\n",
       "      <td>Steve McQueen</td>\n",
       "      <td>56.67</td>\n",
       "      <td>['Biography', ' Drama', ' History']</td>\n",
       "      <td>134</td>\n",
       "      <td>8.1</td>\n",
       "      <td>620348.0</td>\n",
       "      <td>20.0</td>\n",
       "      <td>183.350000</td>\n",
       "    </tr>\n",
       "    <tr>\n",
       "      <td>1</td>\n",
       "      <td>127 Hours</td>\n",
       "      <td>R</td>\n",
       "      <td>2010</td>\n",
       "      <td>Danny Boyle</td>\n",
       "      <td>18.34</td>\n",
       "      <td>['Biography', ' Drama']</td>\n",
       "      <td>94</td>\n",
       "      <td>7.6</td>\n",
       "      <td>340655.0</td>\n",
       "      <td>18.0</td>\n",
       "      <td>1.888889</td>\n",
       "    </tr>\n",
       "    <tr>\n",
       "      <td>2</td>\n",
       "      <td>2001: A Space Odyssey</td>\n",
       "      <td>G</td>\n",
       "      <td>1968</td>\n",
       "      <td>Stanley Kubrick</td>\n",
       "      <td>56.95</td>\n",
       "      <td>['Adventure', ' Sci-Fi']</td>\n",
       "      <td>149</td>\n",
       "      <td>8.3</td>\n",
       "      <td>583340.0</td>\n",
       "      <td>10.5</td>\n",
       "      <td>442.380952</td>\n",
       "    </tr>\n",
       "    <tr>\n",
       "      <td>3</td>\n",
       "      <td>21 Grams</td>\n",
       "      <td>R</td>\n",
       "      <td>2003</td>\n",
       "      <td>Alejandro G. Iñárritu</td>\n",
       "      <td>16.29</td>\n",
       "      <td>['Crime', ' Drama', ' Thriller']</td>\n",
       "      <td>124</td>\n",
       "      <td>7.7</td>\n",
       "      <td>220522.0</td>\n",
       "      <td>20.0</td>\n",
       "      <td>-18.550000</td>\n",
       "    </tr>\n",
       "    <tr>\n",
       "      <td>4</td>\n",
       "      <td>25th Hour</td>\n",
       "      <td>R</td>\n",
       "      <td>2002</td>\n",
       "      <td>Spike Lee</td>\n",
       "      <td>13.06</td>\n",
       "      <td>['Drama']</td>\n",
       "      <td>135</td>\n",
       "      <td>7.6</td>\n",
       "      <td>167314.0</td>\n",
       "      <td>4.5</td>\n",
       "      <td>190.222222</td>\n",
       "    </tr>\n",
       "  </tbody>\n",
       "</table>\n",
       "</div>"
      ],
      "text/plain": [
       "                   Title Movie Rating  Year               Director  \\\n",
       "0       12 Years a Slave            R  2013          Steve McQueen   \n",
       "1              127 Hours            R  2010            Danny Boyle   \n",
       "2  2001: A Space Odyssey            G  1968        Stanley Kubrick   \n",
       "3               21 Grams            R  2003  Alejandro G. Iñárritu   \n",
       "4              25th Hour            R  2002              Spike Lee   \n",
       "\n",
       "   Gross Income                          Movie Genre  Movie Runtime  \\\n",
       "0         56.67  ['Biography', ' Drama', ' History']            134   \n",
       "1         18.34              ['Biography', ' Drama']             94   \n",
       "2         56.95             ['Adventure', ' Sci-Fi']            149   \n",
       "3         16.29     ['Crime', ' Drama', ' Thriller']            124   \n",
       "4         13.06                            ['Drama']            135   \n",
       "\n",
       "   IMDb Rating     Votes  Budget  Profit percent  \n",
       "0          8.1  620348.0    20.0      183.350000  \n",
       "1          7.6  340655.0    18.0        1.888889  \n",
       "2          8.3  583340.0    10.5      442.380952  \n",
       "3          7.7  220522.0    20.0      -18.550000  \n",
       "4          7.6  167314.0     4.5      190.222222  "
      ]
     },
     "execution_count": 13,
     "metadata": {},
     "output_type": "execute_result"
    }
   ],
   "source": [
    "#dff=df.groupby('Movie Genre').count()\n",
    "#print(dff[dff.Title == dff.Title.max()]) \n",
    "fulldf.head()"
   ]
  },
  {
   "cell_type": "code",
   "execution_count": 16,
   "metadata": {},
   "outputs": [],
   "source": [
    "#fulldf.sort_values(by='Budget')"
   ]
  },
  {
   "cell_type": "code",
   "execution_count": 17,
   "metadata": {},
   "outputs": [],
   "source": [
    "#fulldf.head()"
   ]
  },
  {
   "cell_type": "code",
   "execution_count": null,
   "metadata": {},
   "outputs": [],
   "source": []
  }
 ],
 "metadata": {
  "kernelspec": {
   "display_name": "Python 3",
   "language": "python",
   "name": "python3"
  },
  "language_info": {
   "codemirror_mode": {
    "name": "ipython",
    "version": 3
   },
   "file_extension": ".py",
   "mimetype": "text/x-python",
   "name": "python",
   "nbconvert_exporter": "python",
   "pygments_lexer": "ipython3",
   "version": "3.6.9"
  }
 },
 "nbformat": 4,
 "nbformat_minor": 4
}

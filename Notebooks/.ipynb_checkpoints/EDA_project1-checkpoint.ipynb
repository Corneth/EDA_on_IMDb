{
 "cells": [
  {
   "cell_type": "code",
<<<<<<< HEAD
   "execution_count": 1,
=======
   "execution_count": 8,
>>>>>>> db213a4f51aa3197ef50ff172dc3329658dbc0ce
   "metadata": {},
   "outputs": [],
   "source": [
    "\"\"\"Getting all relevent imports into the file\"\"\"\n",
    "\n",
    "import pandas as pd #imported pandas to use dataframes\n",
    "import numpy as np #imported numpy for dynamic arrays\n",
    "import matplotlib.pyplot as plt # imported pyplot to use with my visuals\n",
    "import requests #imported to use webscrape\n",
    "from requests import get #pulled get to use for scraping\n",
    "from random import randint #pulled randint to use as a buffer for time\n",
    "from time import sleep #pulled sleep to slow the crawl rate of the scraper\n",
<<<<<<< HEAD
    "from bs4 import BeautifulSoup #pulled to webscrape"
=======
    "from bs4 import BeautifulSoup #pulled to webscrape\n"
>>>>>>> db213a4f51aa3197ef50ff172dc3329658dbc0ce
   ]
  },
  {
   "cell_type": "code",
<<<<<<< HEAD
   "execution_count": 75,
=======
   "execution_count": 15,
>>>>>>> db213a4f51aa3197ef50ff172dc3329658dbc0ce
   "metadata": {},
   "outputs": [],
   "source": [
    "\"\"\"Pulling information from the actual IMDb website.\"\"\"\n",
    "pages = np.arange(1,1001,250)\n",
    "title = []\n",
<<<<<<< HEAD
=======
    "directors = []\n",
>>>>>>> db213a4f51aa3197ef50ff172dc3329658dbc0ce
    "movie_rating = []\n",
    "year =  []\n",
    "star_rating = []\n",
    "gross = []\n",
    "movie_genre = []\n",
    "movie_time = []\n",
    "votes = []\n",
    "def scraper():\n",
    "    for page in pages:\n",
    "        page = requests.get('https://www.imdb.com/search/title/?release_date=1700-01-01,2020-12-31&groups=top_1000&certificates=US%3AG,US%3APG,US%3APG-13,US%3AR,US%3ANC-17&sort=alpha,asc&count=250&start='+str(page)+'&ref_=adv_nxt')\n",
    "        \n",
    "        soup = BeautifulSoup(page.text, 'html.parser')\n",
    "        \n",
    "#pulling from lister-item mode-advanced pulls all the information for each of the movies on the page to easily pull \n",
    "#the Html tags as attributes of an item\n",
    "        container = soup.findAll('div',class_ = 'lister-item mode-advanced') \n",
    "        \"\"\" for loop looking for each of the catagories in each of the containers\"\"\"\n",
    "        for name in container:\n",
    "            \"\"\"nv is so we can seperate the gross income and seperate it from the votes set into their own \"\"\"\n",
    "            nv = name.find_all('span',attrs ={'name':'nv'})\n",
    "            \n",
    "            title.append(name.h3.a.text)\n",
    "            movie_rating.append(name.p.span.text)\n",
<<<<<<< HEAD
    "            year.append(name.h3.find('span',class_ = 'lister-item-year').text)\n",
    "            \n",
    "            star_rating.append(float(name.strong.text))\n",
    "    \n",
=======
    "            director = name.find('p',class_='').find_all('a')[0].text\n",
    "            directors.append(director)\n",
    "            year.append(name.h3.find('span',class_ = 'lister-item-year').text) \n",
    "            star_rating.append(float(name.strong.text))\n",
>>>>>>> db213a4f51aa3197ef50ff172dc3329658dbc0ce
    "            gross_income = nv[1].text.strip('$\\n\\tM') if len(nv) > 1 else '0'\n",
    "            gross.append(gross_income)\n",
    "            votes_total = nv[0].text if len(nv) >1 else '0'\n",
    "            votes.append(votes_total)\n",
    "            movie_genres = name.p.find('span',class_ ='genre').text.strip(',\\n\\t\" \"').split(',')\n",
<<<<<<< HEAD
    "            movie_genre.append(list(map(lambda ele: ele.split(','),movie_genres)))#movie_genres\n",
=======
    "            #movie_genre.append(list(map(lambda ele: ele.split(','),movie_genres)))#movie_genres\n",
    "            movie_genre.append(movie_genres)\n",
>>>>>>> db213a4f51aa3197ef50ff172dc3329658dbc0ce
    "            movie_time.append(name.p.find('span', class_ = 'runtime').text)\n"
   ]
  },
  {
   "cell_type": "code",
<<<<<<< HEAD
   "execution_count": 57,
=======
   "execution_count": 16,
>>>>>>> db213a4f51aa3197ef50ff172dc3329658dbc0ce
   "metadata": {},
   "outputs": [],
   "source": [
    "\"\"\"Cleaning of the information. removing unneeded characters out of the set of information as well as setting up the dataframe\"\"\"\n",
    "def Clean():\n",
    "    df.loc[:,'Year'] = df['Year'].astype(str).str[-5:-1].astype(int)\n",
    "    df.loc[:,'Movie Runtime'] = df['Movie Runtime'].astype(str).str[:-3].astype(int)\n",
    "    df.loc[:,'Votes'] = df['Votes'].str.replace(',','').astype(float)\n",
<<<<<<< HEAD
    "    df.loc[:,'Gross Income']= df['Gross Income'].astype(str).replace('-',\" \").astype(float)\n",
    "    df.loc[:, 'Title'] = df['Title'].astype(str)\n",
    "    df.loc[:,'Movie Genre'] = df['Movie Genre'].astype(str)\n",
=======
    "    df.loc[:,'Gross_Income']= df['Gross_Income']\n",
    "    df.loc[:, 'Title'] = df['Title'].astype(str)\n",
    "    df.loc[:,'Movie Genre'] = df['Movie Genre'].astype(str)\n",
    "    df.loc[:, 'Director'] = df['Director'].astype(str)\n",
>>>>>>> db213a4f51aa3197ef50ff172dc3329658dbc0ce
    "    df.drop_duplicates()\n",
    "    "
   ]
  },
  {
   "cell_type": "code",
<<<<<<< HEAD
   "execution_count": 58,
=======
   "execution_count": 17,
>>>>>>> db213a4f51aa3197ef50ff172dc3329658dbc0ce
   "metadata": {},
   "outputs": [],
   "source": [
    "\"\"\"Pull and clean information to get ready for setting to dataframe\"\"\"\n",
    "scraper()\n"
   ]
  },
  {
   "cell_type": "code",
<<<<<<< HEAD
   "execution_count": 59,
=======
   "execution_count": 18,
>>>>>>> db213a4f51aa3197ef50ff172dc3329658dbc0ce
   "metadata": {},
   "outputs": [
    {
     "data": {
      "text/html": [
       "<div>\n",
       "<style scoped>\n",
       "    .dataframe tbody tr th:only-of-type {\n",
       "        vertical-align: middle;\n",
       "    }\n",
       "\n",
       "    .dataframe tbody tr th {\n",
       "        vertical-align: top;\n",
       "    }\n",
       "\n",
       "    .dataframe thead th {\n",
       "        text-align: right;\n",
       "    }\n",
       "</style>\n",
       "<table border=\"1\" class=\"dataframe\">\n",
       "  <thead>\n",
       "    <tr style=\"text-align: right;\">\n",
       "      <th></th>\n",
       "      <th>Title</th>\n",
       "      <th>Movie Rating</th>\n",
       "      <th>Year</th>\n",
<<<<<<< HEAD
       "      <th>Gross Income</th>\n",
=======
       "      <th>Director</th>\n",
       "      <th>Gross_Income</th>\n",
>>>>>>> db213a4f51aa3197ef50ff172dc3329658dbc0ce
       "      <th>Movie Genre</th>\n",
       "      <th>Movie Runtime</th>\n",
       "      <th>IMDb Rating</th>\n",
       "      <th>Votes</th>\n",
       "    </tr>\n",
       "  </thead>\n",
       "  <tbody>\n",
       "    <tr>\n",
       "      <td>0</td>\n",
       "      <td>500 Days of Summer</td>\n",
       "      <td>PG-13</td>\n",
       "      <td>2009</td>\n",
<<<<<<< HEAD
=======
       "      <td>Marc Webb</td>\n",
>>>>>>> db213a4f51aa3197ef50ff172dc3329658dbc0ce
       "      <td>32.39</td>\n",
       "      <td>['Comedy', ' Drama', ' Romance']</td>\n",
       "      <td>95</td>\n",
       "      <td>7.7</td>\n",
<<<<<<< HEAD
       "      <td>461968.0</td>\n",
=======
       "      <td>462040.0</td>\n",
>>>>>>> db213a4f51aa3197ef50ff172dc3329658dbc0ce
       "    </tr>\n",
       "    <tr>\n",
       "      <td>1</td>\n",
       "      <td>12 Years a Slave</td>\n",
       "      <td>R</td>\n",
       "      <td>2013</td>\n",
<<<<<<< HEAD
=======
       "      <td>Steve McQueen</td>\n",
>>>>>>> db213a4f51aa3197ef50ff172dc3329658dbc0ce
       "      <td>56.67</td>\n",
       "      <td>['Biography', ' Drama', ' History']</td>\n",
       "      <td>134</td>\n",
       "      <td>8.1</td>\n",
<<<<<<< HEAD
       "      <td>620057.0</td>\n",
=======
       "      <td>620202.0</td>\n",
>>>>>>> db213a4f51aa3197ef50ff172dc3329658dbc0ce
       "    </tr>\n",
       "    <tr>\n",
       "      <td>2</td>\n",
       "      <td>127 Hours</td>\n",
       "      <td>R</td>\n",
       "      <td>2010</td>\n",
<<<<<<< HEAD
=======
       "      <td>Danny Boyle</td>\n",
>>>>>>> db213a4f51aa3197ef50ff172dc3329658dbc0ce
       "      <td>18.34</td>\n",
       "      <td>['Biography', ' Drama']</td>\n",
       "      <td>94</td>\n",
       "      <td>7.6</td>\n",
<<<<<<< HEAD
       "      <td>340533.0</td>\n",
=======
       "      <td>340586.0</td>\n",
>>>>>>> db213a4f51aa3197ef50ff172dc3329658dbc0ce
       "    </tr>\n",
       "    <tr>\n",
       "      <td>3</td>\n",
       "      <td>1917</td>\n",
       "      <td>R</td>\n",
       "      <td>2019</td>\n",
<<<<<<< HEAD
=======
       "      <td>Sam Mendes</td>\n",
>>>>>>> db213a4f51aa3197ef50ff172dc3329658dbc0ce
       "      <td>159.23</td>\n",
       "      <td>['Drama', ' War']</td>\n",
       "      <td>119</td>\n",
       "      <td>8.3</td>\n",
<<<<<<< HEAD
       "      <td>341593.0</td>\n",
=======
       "      <td>342272.0</td>\n",
>>>>>>> db213a4f51aa3197ef50ff172dc3329658dbc0ce
       "    </tr>\n",
       "    <tr>\n",
       "      <td>4</td>\n",
       "      <td>2001: A Space Odyssey</td>\n",
       "      <td>G</td>\n",
       "      <td>1968</td>\n",
<<<<<<< HEAD
=======
       "      <td>Stanley Kubrick</td>\n",
>>>>>>> db213a4f51aa3197ef50ff172dc3329658dbc0ce
       "      <td>56.95</td>\n",
       "      <td>['Adventure', ' Sci-Fi']</td>\n",
       "      <td>149</td>\n",
       "      <td>8.3</td>\n",
<<<<<<< HEAD
       "      <td>583079.0</td>\n",
=======
       "      <td>583198.0</td>\n",
>>>>>>> db213a4f51aa3197ef50ff172dc3329658dbc0ce
       "    </tr>\n",
       "  </tbody>\n",
       "</table>\n",
       "</div>"
      ],
      "text/plain": [
<<<<<<< HEAD
       "                   Title Movie Rating  Year  Gross Income  \\\n",
       "0     500 Days of Summer        PG-13  2009         32.39   \n",
       "1       12 Years a Slave            R  2013         56.67   \n",
       "2              127 Hours            R  2010         18.34   \n",
       "3                   1917            R  2019        159.23   \n",
       "4  2001: A Space Odyssey            G  1968         56.95   \n",
       "\n",
       "                           Movie Genre  Movie Runtime  IMDb Rating     Votes  \n",
       "0     ['Comedy', ' Drama', ' Romance']             95          7.7  461968.0  \n",
       "1  ['Biography', ' Drama', ' History']            134          8.1  620057.0  \n",
       "2              ['Biography', ' Drama']             94          7.6  340533.0  \n",
       "3                    ['Drama', ' War']            119          8.3  341593.0  \n",
       "4             ['Adventure', ' Sci-Fi']            149          8.3  583079.0  "
      ]
     },
     "execution_count": 59,
=======
       "                   Title Movie Rating  Year         Director Gross_Income  \\\n",
       "0     500 Days of Summer        PG-13  2009        Marc Webb        32.39   \n",
       "1       12 Years a Slave            R  2013    Steve McQueen        56.67   \n",
       "2              127 Hours            R  2010      Danny Boyle        18.34   \n",
       "3                   1917            R  2019       Sam Mendes       159.23   \n",
       "4  2001: A Space Odyssey            G  1968  Stanley Kubrick        56.95   \n",
       "\n",
       "                           Movie Genre  Movie Runtime  IMDb Rating     Votes  \n",
       "0     ['Comedy', ' Drama', ' Romance']             95          7.7  462040.0  \n",
       "1  ['Biography', ' Drama', ' History']            134          8.1  620202.0  \n",
       "2              ['Biography', ' Drama']             94          7.6  340586.0  \n",
       "3                    ['Drama', ' War']            119          8.3  342272.0  \n",
       "4             ['Adventure', ' Sci-Fi']            149          8.3  583198.0  "
      ]
     },
     "execution_count": 18,
>>>>>>> db213a4f51aa3197ef50ff172dc3329658dbc0ce
     "metadata": {},
     "output_type": "execute_result"
    }
   ],
   "source": [
    "\"\"\"Setting the information from above to a dataframe to manipulate and visualize\"\"\"\n",
<<<<<<< HEAD
    "df = pd.DataFrame({'Title': title,'Movie Rating': movie_rating,'Year': year,\n",
    "                   'Gross Income': gross,'Movie Genre': movie_genre, 'Movie Runtime': movie_time,\n",
=======
    "df = pd.DataFrame({'Title': title,'Movie Rating': movie_rating,'Year': year,'Director':directors,\n",
    "                   'Gross_Income': gross,'Movie Genre': movie_genre, 'Movie Runtime': movie_time,\n",
>>>>>>> db213a4f51aa3197ef50ff172dc3329658dbc0ce
    "                    'IMDb Rating': star_rating,'Votes': votes})\n",
    "Clean()\n",
    "df.head()"
   ]
  },
  {
   "cell_type": "code",
<<<<<<< HEAD
   "execution_count": 74,
   "metadata": {},
   "outputs": [
    {
     "data": {
      "text/plain": [
       "0            ['Comedy', ' Drama', ' Romance']\n",
       "1         ['Biography', ' Drama', ' History']\n",
       "2                     ['Biography', ' Drama']\n",
       "3                           ['Drama', ' War']\n",
       "4                    ['Adventure', ' Sci-Fi']\n",
       "                        ...                  \n",
       "751           ['Drama', ' History', ' Music']\n",
       "752           ['Crime', ' Drama', ' Mystery']\n",
       "753      ['Adventure', ' Comedy', ' Fantasy']\n",
       "754    ['Animation', ' Adventure', ' Comedy']\n",
       "755            ['Drama', ' Thriller', ' War']\n",
       "Name: Movie Genre, Length: 756, dtype: object"
      ]
     },
     "execution_count": 74,
     "metadata": {},
     "output_type": "execute_result"
    }
   ],
   "source": [
    "df.reset_index()\n",
    "df['Movie Genre']"
   ]
  },
  {
   "cell_type": "code",
   "execution_count": 70,
=======
   "execution_count": 20,
>>>>>>> db213a4f51aa3197ef50ff172dc3329658dbc0ce
   "metadata": {},
   "outputs": [
    {
     "data": {
      "text/html": [
       "<div>\n",
       "<style scoped>\n",
       "    .dataframe tbody tr th:only-of-type {\n",
       "        vertical-align: middle;\n",
       "    }\n",
       "\n",
       "    .dataframe tbody tr th {\n",
       "        vertical-align: top;\n",
       "    }\n",
       "\n",
       "    .dataframe thead th {\n",
       "        text-align: right;\n",
       "    }\n",
       "</style>\n",
       "<table border=\"1\" class=\"dataframe\">\n",
       "  <thead>\n",
       "    <tr style=\"text-align: right;\">\n",
       "      <th></th>\n",
       "      <th>Movie Rating</th>\n",
       "      <th>Year</th>\n",
<<<<<<< HEAD
       "      <th>Gross Income</th>\n",
=======
       "      <th>Director</th>\n",
       "      <th>Gross_Income</th>\n",
>>>>>>> db213a4f51aa3197ef50ff172dc3329658dbc0ce
       "      <th>Movie Genre</th>\n",
       "      <th>Movie Runtime</th>\n",
       "      <th>IMDb Rating</th>\n",
       "      <th>Votes</th>\n",
       "    </tr>\n",
       "    <tr>\n",
       "      <th>Title</th>\n",
       "      <th></th>\n",
       "      <th></th>\n",
       "      <th></th>\n",
       "      <th></th>\n",
       "      <th></th>\n",
       "      <th></th>\n",
       "      <th></th>\n",
<<<<<<< HEAD
=======
       "      <th></th>\n",
>>>>>>> db213a4f51aa3197ef50ff172dc3329658dbc0ce
       "    </tr>\n",
       "  </thead>\n",
       "  <tbody>\n",
       "    <tr>\n",
       "      <td>500 Days of Summer</td>\n",
       "      <td>PG-13</td>\n",
       "      <td>2009</td>\n",
<<<<<<< HEAD
=======
       "      <td>Marc Webb</td>\n",
>>>>>>> db213a4f51aa3197ef50ff172dc3329658dbc0ce
       "      <td>32.39</td>\n",
       "      <td>['Comedy', ' Drama', ' Romance']</td>\n",
       "      <td>95</td>\n",
       "      <td>7.7</td>\n",
<<<<<<< HEAD
       "      <td>461968.0</td>\n",
=======
       "      <td>462040.0</td>\n",
>>>>>>> db213a4f51aa3197ef50ff172dc3329658dbc0ce
       "    </tr>\n",
       "    <tr>\n",
       "      <td>12 Years a Slave</td>\n",
       "      <td>R</td>\n",
       "      <td>2013</td>\n",
<<<<<<< HEAD
=======
       "      <td>Steve McQueen</td>\n",
>>>>>>> db213a4f51aa3197ef50ff172dc3329658dbc0ce
       "      <td>56.67</td>\n",
       "      <td>['Biography', ' Drama', ' History']</td>\n",
       "      <td>134</td>\n",
       "      <td>8.1</td>\n",
<<<<<<< HEAD
       "      <td>620057.0</td>\n",
=======
       "      <td>620202.0</td>\n",
>>>>>>> db213a4f51aa3197ef50ff172dc3329658dbc0ce
       "    </tr>\n",
       "    <tr>\n",
       "      <td>127 Hours</td>\n",
       "      <td>R</td>\n",
       "      <td>2010</td>\n",
<<<<<<< HEAD
=======
       "      <td>Danny Boyle</td>\n",
>>>>>>> db213a4f51aa3197ef50ff172dc3329658dbc0ce
       "      <td>18.34</td>\n",
       "      <td>['Biography', ' Drama']</td>\n",
       "      <td>94</td>\n",
       "      <td>7.6</td>\n",
<<<<<<< HEAD
       "      <td>340533.0</td>\n",
=======
       "      <td>340586.0</td>\n",
>>>>>>> db213a4f51aa3197ef50ff172dc3329658dbc0ce
       "    </tr>\n",
       "    <tr>\n",
       "      <td>1917</td>\n",
       "      <td>R</td>\n",
       "      <td>2019</td>\n",
<<<<<<< HEAD
=======
       "      <td>Sam Mendes</td>\n",
>>>>>>> db213a4f51aa3197ef50ff172dc3329658dbc0ce
       "      <td>159.23</td>\n",
       "      <td>['Drama', ' War']</td>\n",
       "      <td>119</td>\n",
       "      <td>8.3</td>\n",
<<<<<<< HEAD
       "      <td>341593.0</td>\n",
=======
       "      <td>342272.0</td>\n",
>>>>>>> db213a4f51aa3197ef50ff172dc3329658dbc0ce
       "    </tr>\n",
       "    <tr>\n",
       "      <td>2001: A Space Odyssey</td>\n",
       "      <td>G</td>\n",
       "      <td>1968</td>\n",
<<<<<<< HEAD
=======
       "      <td>Stanley Kubrick</td>\n",
>>>>>>> db213a4f51aa3197ef50ff172dc3329658dbc0ce
       "      <td>56.95</td>\n",
       "      <td>['Adventure', ' Sci-Fi']</td>\n",
       "      <td>149</td>\n",
       "      <td>8.3</td>\n",
<<<<<<< HEAD
       "      <td>583079.0</td>\n",
=======
       "      <td>583198.0</td>\n",
>>>>>>> db213a4f51aa3197ef50ff172dc3329658dbc0ce
       "    </tr>\n",
       "    <tr>\n",
       "      <td>...</td>\n",
       "      <td>...</td>\n",
       "      <td>...</td>\n",
       "      <td>...</td>\n",
       "      <td>...</td>\n",
       "      <td>...</td>\n",
       "      <td>...</td>\n",
       "      <td>...</td>\n",
<<<<<<< HEAD
=======
       "      <td>...</td>\n",
>>>>>>> db213a4f51aa3197ef50ff172dc3329658dbc0ce
       "    </tr>\n",
       "    <tr>\n",
       "      <td>Cold War</td>\n",
       "      <td>R</td>\n",
       "      <td>2018</td>\n",
<<<<<<< HEAD
=======
       "      <td>Pawel Pawlikowski</td>\n",
>>>>>>> db213a4f51aa3197ef50ff172dc3329658dbc0ce
       "      <td>4.57</td>\n",
       "      <td>['Drama', ' History', ' Music']</td>\n",
       "      <td>89</td>\n",
       "      <td>7.6</td>\n",
<<<<<<< HEAD
       "      <td>44907.0</td>\n",
=======
       "      <td>44937.0</td>\n",
>>>>>>> db213a4f51aa3197ef50ff172dc3329658dbc0ce
       "    </tr>\n",
       "    <tr>\n",
       "      <td>Zodiac</td>\n",
       "      <td>R</td>\n",
       "      <td>2007</td>\n",
<<<<<<< HEAD
=======
       "      <td>David Fincher</td>\n",
>>>>>>> db213a4f51aa3197ef50ff172dc3329658dbc0ce
       "      <td>33.08</td>\n",
       "      <td>['Crime', ' Drama', ' Mystery']</td>\n",
       "      <td>157</td>\n",
       "      <td>7.7</td>\n",
<<<<<<< HEAD
       "      <td>437514.0</td>\n",
=======
       "      <td>437772.0</td>\n",
>>>>>>> db213a4f51aa3197ef50ff172dc3329658dbc0ce
       "    </tr>\n",
       "    <tr>\n",
       "      <td>Zombieland</td>\n",
       "      <td>R</td>\n",
       "      <td>2009</td>\n",
<<<<<<< HEAD
=======
       "      <td>Ruben Fleischer</td>\n",
>>>>>>> db213a4f51aa3197ef50ff172dc3329658dbc0ce
       "      <td>75.59</td>\n",
       "      <td>['Adventure', ' Comedy', ' Fantasy']</td>\n",
       "      <td>88</td>\n",
       "      <td>7.6</td>\n",
<<<<<<< HEAD
       "      <td>507625.0</td>\n",
=======
       "      <td>507719.0</td>\n",
>>>>>>> db213a4f51aa3197ef50ff172dc3329658dbc0ce
       "    </tr>\n",
       "    <tr>\n",
       "      <td>Zootopia</td>\n",
       "      <td>PG</td>\n",
       "      <td>2016</td>\n",
<<<<<<< HEAD
=======
       "      <td>Byron Howard</td>\n",
>>>>>>> db213a4f51aa3197ef50ff172dc3329658dbc0ce
       "      <td>341.27</td>\n",
       "      <td>['Animation', ' Adventure', ' Comedy']</td>\n",
       "      <td>108</td>\n",
       "      <td>8.0</td>\n",
<<<<<<< HEAD
       "      <td>417501.0</td>\n",
=======
       "      <td>417630.0</td>\n",
>>>>>>> db213a4f51aa3197ef50ff172dc3329658dbc0ce
       "    </tr>\n",
       "    <tr>\n",
       "      <td>Black Book</td>\n",
       "      <td>R</td>\n",
       "      <td>2006</td>\n",
<<<<<<< HEAD
=======
       "      <td>Paul Verhoeven</td>\n",
>>>>>>> db213a4f51aa3197ef50ff172dc3329658dbc0ce
       "      <td>4.40</td>\n",
       "      <td>['Drama', ' Thriller', ' War']</td>\n",
       "      <td>145</td>\n",
       "      <td>7.7</td>\n",
<<<<<<< HEAD
       "      <td>71224.0</td>\n",
       "    </tr>\n",
       "  </tbody>\n",
       "</table>\n",
       "<p>756 rows × 7 columns</p>\n",
       "</div>"
      ],
      "text/plain": [
       "                      Movie Rating  Year  Gross Income  \\\n",
       "Title                                                    \n",
       "500 Days of Summer           PG-13  2009         32.39   \n",
       "12 Years a Slave                 R  2013         56.67   \n",
       "127 Hours                        R  2010         18.34   \n",
       "1917                             R  2019        159.23   \n",
       "2001: A Space Odyssey            G  1968         56.95   \n",
       "...                            ...   ...           ...   \n",
       "Cold War                         R  2018          4.57   \n",
       "Zodiac                           R  2007         33.08   \n",
       "Zombieland                       R  2009         75.59   \n",
       "Zootopia                        PG  2016        341.27   \n",
       "Black Book                       R  2006          4.40   \n",
=======
       "      <td>71235.0</td>\n",
       "    </tr>\n",
       "  </tbody>\n",
       "</table>\n",
       "<p>756 rows × 8 columns</p>\n",
       "</div>"
      ],
      "text/plain": [
       "                      Movie Rating  Year           Director Gross_Income  \\\n",
       "Title                                                                      \n",
       "500 Days of Summer           PG-13  2009          Marc Webb        32.39   \n",
       "12 Years a Slave                 R  2013      Steve McQueen        56.67   \n",
       "127 Hours                        R  2010        Danny Boyle        18.34   \n",
       "1917                             R  2019         Sam Mendes       159.23   \n",
       "2001: A Space Odyssey            G  1968    Stanley Kubrick        56.95   \n",
       "...                            ...   ...                ...          ...   \n",
       "Cold War                         R  2018  Pawel Pawlikowski         4.57   \n",
       "Zodiac                           R  2007      David Fincher        33.08   \n",
       "Zombieland                       R  2009    Ruben Fleischer        75.59   \n",
       "Zootopia                        PG  2016       Byron Howard       341.27   \n",
       "Black Book                       R  2006     Paul Verhoeven         4.40   \n",
>>>>>>> db213a4f51aa3197ef50ff172dc3329658dbc0ce
       "\n",
       "                                                  Movie Genre  Movie Runtime  \\\n",
       "Title                                                                          \n",
       "500 Days of Summer           ['Comedy', ' Drama', ' Romance']             95   \n",
       "12 Years a Slave          ['Biography', ' Drama', ' History']            134   \n",
       "127 Hours                             ['Biography', ' Drama']             94   \n",
       "1917                                        ['Drama', ' War']            119   \n",
       "2001: A Space Odyssey                ['Adventure', ' Sci-Fi']            149   \n",
       "...                                                       ...            ...   \n",
       "Cold War                      ['Drama', ' History', ' Music']             89   \n",
       "Zodiac                        ['Crime', ' Drama', ' Mystery']            157   \n",
       "Zombieland               ['Adventure', ' Comedy', ' Fantasy']             88   \n",
       "Zootopia               ['Animation', ' Adventure', ' Comedy']            108   \n",
       "Black Book                     ['Drama', ' Thriller', ' War']            145   \n",
       "\n",
       "                       IMDb Rating     Votes  \n",
       "Title                                         \n",
<<<<<<< HEAD
       "500 Days of Summer             7.7  461968.0  \n",
       "12 Years a Slave               8.1  620057.0  \n",
       "127 Hours                      7.6  340533.0  \n",
       "1917                           8.3  341593.0  \n",
       "2001: A Space Odyssey          8.3  583079.0  \n",
       "...                            ...       ...  \n",
       "Cold War                       7.6   44907.0  \n",
       "Zodiac                         7.7  437514.0  \n",
       "Zombieland                     7.6  507625.0  \n",
       "Zootopia                       8.0  417501.0  \n",
       "Black Book                     7.7   71224.0  \n",
       "\n",
       "[756 rows x 7 columns]"
      ]
     },
     "execution_count": 70,
=======
       "500 Days of Summer             7.7  462040.0  \n",
       "12 Years a Slave               8.1  620202.0  \n",
       "127 Hours                      7.6  340586.0  \n",
       "1917                           8.3  342272.0  \n",
       "2001: A Space Odyssey          8.3  583198.0  \n",
       "...                            ...       ...  \n",
       "Cold War                       7.6   44937.0  \n",
       "Zodiac                         7.7  437772.0  \n",
       "Zombieland                     7.6  507719.0  \n",
       "Zootopia                       8.0  417630.0  \n",
       "Black Book                     7.7   71235.0  \n",
       "\n",
       "[756 rows x 8 columns]"
      ]
     },
     "execution_count": 20,
>>>>>>> db213a4f51aa3197ef50ff172dc3329658dbc0ce
     "metadata": {},
     "output_type": "execute_result"
    }
   ],
   "source": [
<<<<<<< HEAD
    "df.set_index('Title')"
=======
    "df.set_index('Title')\n"
>>>>>>> db213a4f51aa3197ef50ff172dc3329658dbc0ce
   ]
  },
  {
   "cell_type": "code",
<<<<<<< HEAD
   "execution_count": 38,
   "metadata": {},
   "outputs": [
    {
     "data": {
      "text/plain": [
       "Title            755\n",
       "Movie Rating      11\n",
       "Year              78\n",
       "Gross Income     672\n",
       "Movie Genre      170\n",
       "Movie Runtime    123\n",
       "IMDb Rating       17\n",
       "Votes            707\n",
       "dtype: int64"
      ]
     },
     "execution_count": 38,
     "metadata": {},
     "output_type": "execute_result"
    }
   ],
   "source": []
=======
   "execution_count": 21,
   "metadata": {},
   "outputs": [],
   "source": [
    "df.to_csv(\"df_scraped.csv\",index=False)\n",
    "\n"
   ]
>>>>>>> db213a4f51aa3197ef50ff172dc3329658dbc0ce
  },
  {
   "cell_type": "code",
   "execution_count": null,
   "metadata": {},
   "outputs": [],
   "source": []
  }
 ],
 "metadata": {
  "kernelspec": {
   "display_name": "learn-env",
   "language": "python",
   "name": "learn-env"
  },
  "language_info": {
   "codemirror_mode": {
    "name": "ipython",
    "version": 3
   },
   "file_extension": ".py",
   "mimetype": "text/x-python",
   "name": "python",
   "nbconvert_exporter": "python",
   "pygments_lexer": "ipython3",
   "version": "3.6.9"
  }
 },
 "nbformat": 4,
 "nbformat_minor": 4
}

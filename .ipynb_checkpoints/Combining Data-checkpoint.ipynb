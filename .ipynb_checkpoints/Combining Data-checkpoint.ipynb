{
 "cells": [
  {
   "cell_type": "code",
   "execution_count": 1,
   "metadata": {},
   "outputs": [],
   "source": [
    "\"\"\"Getting all relevent imports into the file\"\"\"\n",
    "import pandas as pd\n",
    "import numpy as np"
   ]
  },
  {
   "cell_type": "code",
   "execution_count": 2,
   "metadata": {},
   "outputs": [],
   "source": [
    "\"\"\"import movie file with budget info\"\"\"\n",
    "df_budget = pd.read_csv('tn.movie_budgets.csv.gz') # get the data for budget of movies\n",
    "df_scraped = pd.read_csv('All_movies_year_1990-2020.csv')\n",
    "df_budget.rename(columns = {'movie': 'Title'}, inplace=True) # rename the movie column to title so it can be used as an index for joining \n",
    "df_budget.set_index('Title',inplace=True) # set the name as index \n"
   ]
  },
  {
   "cell_type": "code",
   "execution_count": 3,
   "metadata": {},
   "outputs": [
    {
     "name": "stdout",
     "output_type": "stream",
     "text": [
      "<class 'pandas.core.frame.DataFrame'>\n",
      "Index: 5782 entries, Avatar to My Date With Drew\n",
      "Data columns (total 5 columns):\n",
      "id                   5782 non-null int64\n",
      "release_date         5782 non-null object\n",
      "production_budget    5782 non-null object\n",
      "domestic_gross       5782 non-null object\n",
      "worldwide_gross      5782 non-null object\n",
      "dtypes: int64(1), object(4)\n",
      "memory usage: 271.0+ KB\n"
     ]
    }
   ],
   "source": [
    "df_budget.info()"
   ]
  },
  {
   "cell_type": "code",
   "execution_count": 4,
   "metadata": {},
   "outputs": [],
   "source": [
    "\"\"\"Clean budget data\"\"\"\n",
    "df_budget['production_budget'] = df_budget['production_budget'].str.strip('$').str.replace(\",\",\"\").astype(float)/1000000"
   ]
  },
  {
   "cell_type": "code",
   "execution_count": 5,
   "metadata": {},
   "outputs": [
    {
     "data": {
      "text/plain": [
       "'Clean budget data'"
      ]
     },
     "execution_count": 5,
     "metadata": {},
     "output_type": "execute_result"
    }
   ],
   "source": [
    "\"\"\"Clean budget data\"\"\"\n",
    "#df_budget['production_budget'] = df_budget['production_budget'].apply(lambda x: x.strip('$').replace(\",\",\"\")) #Clean currency string   \n",
    "#df_budget['production_budget'] = df_budget['production_budget'].astype(float)/1000000 # Convert to integer and change the amount into millions\n"
   ]
  },
  {
   "cell_type": "code",
   "execution_count": 6,
   "metadata": {},
   "outputs": [
    {
     "data": {
      "text/plain": [
       "numpy.float64"
      ]
     },
     "execution_count": 6,
     "metadata": {},
     "output_type": "execute_result"
    }
   ],
   "source": [
    "type(df_budget['production_budget'][0])# check to see if amount is numeric"
   ]
  },
  {
   "cell_type": "code",
   "execution_count": 7,
   "metadata": {},
   "outputs": [],
   "source": [
    "\"\"\"Merge the df with budget info with the web scraped dataframe\"\"\"\n",
    "fulldf = pd.merge(df_scraped,df_budget['production_budget'],on ='Title') # add the budget column and release date to df_scraped\n",
    "fulldf.rename(columns = {'production_budget':'Budget in millions (USD)', 'Gross Income' : 'Gross Income in millions (USD)'}, inplace = True) # rename production budget to Budget"
   ]
  },
  {
   "cell_type": "code",
   "execution_count": 8,
   "metadata": {},
   "outputs": [],
   "source": [
    "\"\"\"Add Profit percent column\"\"\"\n",
    "fulldf['Profit percent'] = ((fulldf['Gross Income in millions (USD)'] - fulldf['Budget in millions (USD)'] )/fulldf['Budget in millions (USD)'])*100"
   ]
  },
  {
   "cell_type": "code",
   "execution_count": 9,
   "metadata": {},
   "outputs": [],
   "source": [
    "#fulldf.head()"
   ]
  },
  {
   "cell_type": "code",
   "execution_count": 10,
   "metadata": {},
   "outputs": [],
   "source": [
    "fulldf.drop('Unnamed: 0', axis = 1,inplace = True)"
   ]
  },
  {
   "cell_type": "code",
   "execution_count": 11,
   "metadata": {},
   "outputs": [],
   "source": [
    "#fulldf.head()"
   ]
  },
  {
   "cell_type": "code",
   "execution_count": 12,
   "metadata": {},
   "outputs": [],
   "source": [
    "#fulldf.loc[fulldf['Movie Runtime'] == 0]#.info()"
   ]
  },
  {
   "cell_type": "code",
   "execution_count": 13,
   "metadata": {},
   "outputs": [],
   "source": [
    "\"\"\"Remove movies that have no runtime\"\"\"\n",
    "fulldf = fulldf [fulldf['Movie Runtime'] > 0]"
   ]
  },
  {
   "cell_type": "code",
   "execution_count": 14,
   "metadata": {},
   "outputs": [],
   "source": [
    "#fulldf.info()"
   ]
  },
  {
   "cell_type": "code",
   "execution_count": 15,
   "metadata": {},
   "outputs": [],
   "source": [
    "#fulldf.loc[fulldf['Gross Income in millions (USD)'] == 0]#.info() # check to see if there are any 0 Gross income"
   ]
  },
  {
   "cell_type": "code",
   "execution_count": 16,
   "metadata": {},
   "outputs": [],
   "source": [
    "\"\"\"Replace unreported Gross income by the median Gross income\"\"\" \n",
    "fulldf=fulldf.replace({'Gross Income in millions (USD)': {0: fulldf['Gross Income in millions (USD)'].median()}}) "
   ]
  },
  {
   "cell_type": "code",
   "execution_count": 22,
   "metadata": {},
   "outputs": [],
   "source": [
    "\"\"\"Replace unreported Votes by the median Votes\"\"\" \n",
    "fulldf=fulldf.replace({'Votes': {0: fulldf['Votes'].median()}}) "
   ]
  },
  {
   "cell_type": "code",
   "execution_count": 18,
   "metadata": {},
   "outputs": [
    {
     "name": "stdout",
     "output_type": "stream",
     "text": [
      "<class 'pandas.core.frame.DataFrame'>\n",
      "Int64Index: 2234 entries, 0 to 2240\n",
      "Data columns (total 10 columns):\n",
      "Title                             2234 non-null object\n",
      "Movie Rating                      2234 non-null object\n",
      "Year                              2234 non-null object\n",
      "Gross Income in millions (USD)    2234 non-null float64\n",
      "Movie Genre                       2234 non-null object\n",
      "Movie Runtime                     2234 non-null int64\n",
      "IMDb Rating                       2234 non-null float64\n",
      "Votes                             2234 non-null float64\n",
      "Budget in millions (USD)          2234 non-null float64\n",
      "Profit percent                    2234 non-null float64\n",
      "dtypes: float64(5), int64(1), object(4)\n",
      "memory usage: 192.0+ KB\n"
     ]
    }
   ],
   "source": [
    "fulldf.info()"
   ]
  },
  {
   "cell_type": "code",
   "execution_count": 19,
   "metadata": {},
   "outputs": [],
   "source": [
    "#fulldf.loc[fulldf['Gross Income in millions (USD)'] == 0] # check to see if there are any 0 Gross income\n"
   ]
  },
  {
   "cell_type": "code",
   "execution_count": 20,
   "metadata": {},
   "outputs": [],
   "source": [
    "#fulldf.info()"
   ]
  },
  {
   "cell_type": "code",
   "execution_count": 21,
   "metadata": {},
   "outputs": [],
   "source": [
    "\"\"\"Save file to csv\"\"\"\n",
    "#fulldf.to_csv(\"fulldf.csv\",index=False) # save this df as an excel file\n",
    "fulldf.to_csv(\"newfulldf.csv\",index=False) # save this df as an excel file"
   ]
  },
  {
   "cell_type": "code",
   "execution_count": null,
   "metadata": {},
   "outputs": [],
   "source": []
  }
 ],
 "metadata": {
  "kernelspec": {
   "display_name": "Python 3",
   "language": "python",
   "name": "python3"
  },
  "language_info": {
   "codemirror_mode": {
    "name": "ipython",
    "version": 3
   },
   "file_extension": ".py",
   "mimetype": "text/x-python",
   "name": "python",
   "nbconvert_exporter": "python",
   "pygments_lexer": "ipython3",
   "version": "3.6.9"
  }
 },
 "nbformat": 4,
 "nbformat_minor": 4
}

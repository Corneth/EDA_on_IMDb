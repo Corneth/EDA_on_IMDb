{
 "cells": [
  {
   "cell_type": "code",
   "execution_count": 1,
   "metadata": {},
   "outputs": [],
   "source": [
    "\"\"\"Getting all relevent imports into the file\"\"\"\n",
    "import re\n",
    "import pandas as pd #imported pandas to use dataframes\n",
    "import numpy as np #imported numpy for dynamic arrays\n",
    "import matplotlib.pyplot as plt # imported pyplot to use with my visuals\n",
    "import requests #imported to use webscrape\n",
    "from requests import get #pulled get to use for scraping\n",
    "from random import randint #pulled randint to use as a buffer for time\n",
    "from time import sleep #pulled sleep to slow the crawl rate of the scraper\n",
    "from bs4 import BeautifulSoup #pulled to webscrape"
   ]
  },
  {
   "cell_type": "code",
   "execution_count": 7,
   "metadata": {},
   "outputs": [],
   "source": [
    "\"\"\"Pulling information from the actual IMDb website.\"\"\"\n",
    "pages = np.arange(1,10000,250)\n",
    "title = []\n",
    "movie_rating = []\n",
    "year =  []\n",
    "star_rating = []\n",
    "gross = []\n",
    "movie_genre = []\n",
    "movie_time = []\n",
    "votes = []\n",
    "\n",
    "def scraper():\n",
    "    for page in pages:\n",
    "        page = requests.get('https://www.imdb.com/search/title/?release_date=1990-01-01,2020-12-31&user_rating=4.0,9.0&certificates=US%3AG,US%3APG,US%3APG-13,US%3AR,US%3ANC-17&countries=us&sort=alpha,asc&count=250&start='+ str(page) +'&ref_=adv_nxt')\n",
    "        \n",
    "        soup = BeautifulSoup(page.text, 'html.parser')\n",
    "        \n",
    "#pulling from lister-item mode-advanced pulls all the information for each of the movies on the page to easily pull \n",
    "#the Html tags as attributes of an item\n",
    "        container = soup.findAll('div',class_ = 'lister-item mode-advanced') \n",
    "        \"\"\" for loop looking for each of the catagories in each of the containers\"\"\"\n",
    "        for name in container:\n",
    "            \"\"\"nv is so we can seperate the gross income and seperate it from the votes set into their own \"\"\"\n",
    "            nv = name.find_all('span',attrs ={'name':'nv'})\n",
    "            \n",
    "            title.append(name.h3.a.text)\n",
    "            movie_rating.append(name.p.span.text)\n",
    "            year.append(name.h3.find('span',class_ = 'lister-item-year').text)\n",
    "            \n",
    "            if name.strong is not None:\n",
    "                star_rating.append(float(name.strong.text))\n",
    "            else:\n",
    "                star_rating.append(0)\n",
    "                \n",
    "            gross_income = nv[1].text.strip('$\\n\\tM') if len(nv) > 1 else '0'\n",
    "            gross.append(gross_income)\n",
    "            votes_total = nv[0].text if len(nv) >1 else 0\n",
    "            votes.append(votes_total)\n",
    "            \n",
    "            if name.p.find('span',class_ = 'genre') is not None:\n",
    "                movie_genres = name.p.find('span',class_ ='genre').text#.strip(',\\n\\t\" \"').split(',')\n",
    "                movie_genre.append(movie_genres)#list(map(lambda ele: ele.split(','),movie_genres))\n",
    "            else:\n",
    "                movie_genre.append('N/A')\n",
    "            \n",
    "            if name.p.find('span',class_ = 'runtime') is None:\n",
    "                movie_time.append(0)\n",
    "            else:\n",
    "                movie_time.append(name.p.find('span', class_ = 'runtime').text)"
   ]
  },
  {
   "cell_type": "code",
   "execution_count": 12,
   "metadata": {},
   "outputs": [],
   "source": [
    "\"\"\"Cleaning of the information. removing unneeded characters out of the set of information as well as setting up the dataframe\"\"\"\n",
    "def Clean():\n",
    "    \n",
    "    df.loc[:,'Year'] = df['Year'].astype(str).str.strip('()TV Special Movie VideoGame TV–\\I Short\" \"X')\n",
    "    df.loc[:,'Movie Runtime'] = df['Movie Runtime'].astype(str).str.strip('min\\,\" \"').astype(int)\n",
    "    df.loc[:,'Votes'] = df['Votes'].astype(str).str.replace(',','').astype(float)\n",
    "    df.loc[:,'Gross Income']= df['Gross Income'].astype(str).str.replace('–',\" \",True).astype(float)\n",
    "    df.loc[:, 'Title'] = df['Title'].astype(str)\n",
    "    df.loc[:,'Movie Genre'] = df['Movie Genre'].astype(str).str.replace(' ',\"\").str.replace(\"'\",\"\").str.strip('\\n[]')\n",
    "    \n",
    "    \n",
    "    "
   ]
  },
  {
   "cell_type": "code",
   "execution_count": 9,
   "metadata": {},
   "outputs": [],
   "source": [
    "\"\"\"Pull and clean information to get ready for setting to dataframe\"\"\"\n",
    "scraper()\n"
   ]
  },
  {
   "cell_type": "code",
   "execution_count": 15,
   "metadata": {},
   "outputs": [],
   "source": [
    "\"\"\"Setting the information from above to a dataframe to manipulate and visualize\"\"\"\n",
    "df = pd.DataFrame({'Title': title,'Movie Rating': movie_rating,'Year': year,\n",
    "                   'Gross Income': gross,'Movie Genre': movie_genre, 'Movie Runtime': movie_time,\n",
    "                    'IMDb Rating': star_rating,'Votes': votes})\n",
    "Clean()\n",
    "\n"
   ]
  },
  {
   "cell_type": "code",
   "execution_count": 73,
   "metadata": {},
   "outputs": [],
   "source": [
    "df.to_csv('All_movies_year_1990-2020.csv')"
   ]
  }
 ],
 "metadata": {
  "kernelspec": {
   "display_name": "learn-env",
   "language": "python",
   "name": "learn-env"
  },
  "language_info": {
   "codemirror_mode": {
    "name": "ipython",
    "version": 3
   },
   "file_extension": ".py",
   "mimetype": "text/x-python",
   "name": "python",
   "nbconvert_exporter": "python",
   "pygments_lexer": "ipython3",
   "version": "3.6.9"
  }
 },
 "nbformat": 4,
 "nbformat_minor": 4
}

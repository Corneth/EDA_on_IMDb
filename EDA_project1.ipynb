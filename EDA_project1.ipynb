{
 "cells": [
  {
   "cell_type": "code",
   "execution_count": 1,
   "metadata": {},
   "outputs": [],
   "source": [
    "import pandas as pd, numpy as np, matplotlib.pyplot as plt\n",
    "from requests import get\n",
    "from bs4 import BeautifulSoup\n",
    "from time import sleep\n",
    "from random import randint\n",
    "%matplotlib inline"
   ]
  },
  {
   "cell_type": "code",
   "execution_count": 5,
   "metadata": {},
   "outputs": [],
   "source": [
    "# Pulling all the relivant information from a web scraper into panda's dataframes to be able to utilize EDA.\n",
    "pages = np.arange(1,1001,250)\n",
    "title = []\n",
    "\n",
    "def webpageScraper():\n",
    "    for page in pages:\n",
    "        html = 'https://www.imdb.com/search/title/?release_date=1950-01-01,2020-12-31&groups=top_1000&sort=alpha,asc&count=250&start=' +str(page) +'&ref_=adv_nxt'\n",
    "        response = get(html)\n",
    "        html_soup = BeautifulSoup(response.text, 'html.parser')\n",
    "        name_find = html_soup.find('div',class_ ='lister-list')\n",
    "        title_name = [h3.find('a').text for h3 in name_find.findAll('h3')]\n",
    "        title.append(title_name)\n",
    "        sleep(randint(0,3))"
   ]
  },
  {
   "cell_type": "code",
   "execution_count": 6,
   "metadata": {},
   "outputs": [],
   "source": [
    "webpageScraper()"
   ]
  },
  {
   "cell_type": "code",
   "execution_count": 10,
   "metadata": {},
   "outputs": [
    {
     "data": {
      "text/plain": [
       "['500 Days of Summer',\n",
       " '12 Angry Men',\n",
       " '12 Years a Slave',\n",
       " '127 Hours',\n",
       " '1917',\n",
       " '2001: A Space Odyssey',\n",
       " '21 Grams',\n",
       " '25th Hour',\n",
       " '28 Days Later...',\n",
       " '3 Idiots',\n",
       " '300',\n",
       " '3:10 to Yuma',\n",
       " '4 Months, 3 Weeks and 2 Days',\n",
       " '50/50',\n",
       " '8½',\n",
       " 'A Beautiful Mind',\n",
       " 'A Bronx Tale',\n",
       " 'A Christmas Story',\n",
       " 'A Clockwork Orange',\n",
       " 'A Few Good Men',\n",
       " \"A Hard Day's Night\",\n",
       " 'A Little Princess',\n",
       " 'A Man for All Seasons',\n",
       " 'A Star Is Born',\n",
       " 'A Streetcar Named Desire']"
      ]
     },
     "execution_count": 10,
     "metadata": {},
     "output_type": "execute_result"
    }
   ],
   "source": [
    "title[0][0:25]"
   ]
  },
  {
   "cell_type": "code",
   "execution_count": null,
   "metadata": {},
   "outputs": [],
   "source": []
  }
 ],
 "metadata": {
  "kernelspec": {
   "display_name": "learn-env",
   "language": "python",
   "name": "learn-env"
  },
  "language_info": {
   "codemirror_mode": {
    "name": "ipython",
    "version": 3
   },
   "file_extension": ".py",
   "mimetype": "text/x-python",
   "name": "python",
   "nbconvert_exporter": "python",
   "pygments_lexer": "ipython3",
   "version": "3.6.9"
  }
 },
 "nbformat": 4,
 "nbformat_minor": 4
}
